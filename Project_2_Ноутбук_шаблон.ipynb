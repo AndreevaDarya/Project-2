{
  "cells": [
    {
      "cell_type": "markdown",
      "id": "42289889-bd57-434e-9637-d3e354756316",
      "metadata": {
        "id": "42289889-bd57-434e-9637-d3e354756316"
      },
      "source": [
        "<center> <img src = https://raw.githubusercontent.com/AndreyRysistov/DatasetsForPandas/main/hh%20label.jpg alt=\"drawing\" style=\"width:400px;\">"
      ]
    },
    {
      "cell_type": "markdown",
      "id": "829cb75b-f14e-4ba8-9195-7ba929a7d656",
      "metadata": {
        "id": "829cb75b-f14e-4ba8-9195-7ba929a7d656",
        "tags": []
      },
      "source": [
        "# <center> Проект: Анализ вакансий из HeadHunter\n",
        "   "
      ]
    },
    {
      "cell_type": "code",
      "execution_count": 90,
      "id": "dccfde33-2452-43fb-a8a5-5c6ebc02a71d",
      "metadata": {
        "id": "dccfde33-2452-43fb-a8a5-5c6ebc02a71d"
      },
      "outputs": [],
      "source": [
        "import pandas as pd\n",
        "import psycopg2\n",
        "import numpy as np\n",
        "from sqlalchemy import select"
      ]
    },
    {
      "cell_type": "code",
      "execution_count": 91,
      "id": "oVKH4ehvf8Ay",
      "metadata": {
        "id": "oVKH4ehvf8Ay"
      },
      "outputs": [],
      "source": [
        "# вставьте сюда параметры подключения из юнита 1. Работа с базой данных из Python \n",
        "\n",
        "DBNAME = 'project_sql'\n",
        "USER = 'skillfactory'\n",
        "PASSWORD = 'cCkxxLVrDE8EbvjueeMedPKt'\n",
        "HOST = '84.201.134.129'\n",
        "PORT = 5432"
      ]
    },
    {
      "cell_type": "code",
      "execution_count": 92,
      "id": "bf0cd80c",
      "metadata": {},
      "outputs": [],
      "source": [
        "connection = psycopg2.connect(\n",
        "    dbname=DBNAME,\n",
        "    user=USER,\n",
        "    host=HOST,\n",
        "    password=PASSWORD,\n",
        "    port=PORT\n",
        ")"
      ]
    },
    {
      "cell_type": "markdown",
      "id": "0dc6476b-7a00-44f1-ac93-6e3baed33a29",
      "metadata": {
        "id": "0dc6476b-7a00-44f1-ac93-6e3baed33a29"
      },
      "source": [
        "# Юнит 3. Предварительный анализ данных"
      ]
    },
    {
      "cell_type": "markdown",
      "id": "889782b6-8d1c-410e-8920-e57f27917c64",
      "metadata": {
        "id": "889782b6-8d1c-410e-8920-e57f27917c64"
      },
      "source": [
        "1. Напишите запрос, который посчитает количество вакансий в нашей базе (вакансии находятся в таблице vacancies). "
      ]
    },
    {
      "cell_type": "code",
      "execution_count": 10,
      "id": "bc39e68e-ed02-4ee2-9235-7258a2f867a8",
      "metadata": {
        "id": "bc39e68e-ed02-4ee2-9235-7258a2f867a8"
      },
      "outputs": [],
      "source": [
        "# текст запроса\n",
        "query_3_1 = f'''select count(id)\n",
        "            from vacancies\n",
        "'''\n"
      ]
    },
    {
      "cell_type": "code",
      "execution_count": 11,
      "id": "7mAwtsk4hEHY",
      "metadata": {
        "id": "7mAwtsk4hEHY"
      },
      "outputs": [
        {
          "name": "stderr",
          "output_type": "stream",
          "text": [
            "/var/folders/14/w5z30cwx541gq2kzys9tvttc0000gn/T/ipykernel_3298/3713039602.py:2: UserWarning: pandas only supports SQLAlchemy connectable (engine/connection) or database string URI or sqlite3 DBAPI2 connection. Other DBAPI2 objects are not tested. Please consider using SQLAlchemy.\n",
            "  df_3_1 = pd.read_sql_query(query_3_1, connection)\n"
          ]
        },
        {
          "data": {
            "text/html": [
              "<div>\n",
              "<style scoped>\n",
              "    .dataframe tbody tr th:only-of-type {\n",
              "        vertical-align: middle;\n",
              "    }\n",
              "\n",
              "    .dataframe tbody tr th {\n",
              "        vertical-align: top;\n",
              "    }\n",
              "\n",
              "    .dataframe thead th {\n",
              "        text-align: right;\n",
              "    }\n",
              "</style>\n",
              "<table border=\"1\" class=\"dataframe\">\n",
              "  <thead>\n",
              "    <tr style=\"text-align: right;\">\n",
              "      <th></th>\n",
              "      <th>count</th>\n",
              "    </tr>\n",
              "  </thead>\n",
              "  <tbody>\n",
              "    <tr>\n",
              "      <th>0</th>\n",
              "      <td>49197</td>\n",
              "    </tr>\n",
              "  </tbody>\n",
              "</table>\n",
              "</div>"
            ],
            "text/plain": [
              "   count\n",
              "0  49197"
            ]
          },
          "execution_count": 11,
          "metadata": {},
          "output_type": "execute_result"
        }
      ],
      "source": [
        "# результат запроса\n",
        "df_3_1 = pd.read_sql_query(query_3_1, connection)\n",
        "df_3_1\n",
        "# Количество вакансий в нашей базе = 49197"
      ]
    },
    {
      "cell_type": "markdown",
      "id": "b583485d-1f9e-494e-ada4-80ffff7c53d6",
      "metadata": {
        "id": "b583485d-1f9e-494e-ada4-80ffff7c53d6"
      },
      "source": [
        "2. Напишите запрос, который посчитает количество работодателей (таблица employers). "
      ]
    },
    {
      "cell_type": "code",
      "execution_count": 12,
      "id": "5408c52c-3407-4a63-b25b-1aafa2322d28",
      "metadata": {
        "id": "5408c52c-3407-4a63-b25b-1aafa2322d28"
      },
      "outputs": [],
      "source": [
        "query_3_2 = f'''select count(distinct id)\n",
        "            from employers\n",
        "'''"
      ]
    },
    {
      "cell_type": "code",
      "execution_count": 13,
      "id": "jVL4eshKhdqc",
      "metadata": {
        "id": "jVL4eshKhdqc"
      },
      "outputs": [
        {
          "name": "stderr",
          "output_type": "stream",
          "text": [
            "/var/folders/14/w5z30cwx541gq2kzys9tvttc0000gn/T/ipykernel_3298/2994483377.py:2: UserWarning: pandas only supports SQLAlchemy connectable (engine/connection) or database string URI or sqlite3 DBAPI2 connection. Other DBAPI2 objects are not tested. Please consider using SQLAlchemy.\n",
            "  df_3_2 = pd.read_sql_query(query_3_2, connection)\n"
          ]
        },
        {
          "data": {
            "text/html": [
              "<div>\n",
              "<style scoped>\n",
              "    .dataframe tbody tr th:only-of-type {\n",
              "        vertical-align: middle;\n",
              "    }\n",
              "\n",
              "    .dataframe tbody tr th {\n",
              "        vertical-align: top;\n",
              "    }\n",
              "\n",
              "    .dataframe thead th {\n",
              "        text-align: right;\n",
              "    }\n",
              "</style>\n",
              "<table border=\"1\" class=\"dataframe\">\n",
              "  <thead>\n",
              "    <tr style=\"text-align: right;\">\n",
              "      <th></th>\n",
              "      <th>count</th>\n",
              "    </tr>\n",
              "  </thead>\n",
              "  <tbody>\n",
              "    <tr>\n",
              "      <th>0</th>\n",
              "      <td>23501</td>\n",
              "    </tr>\n",
              "  </tbody>\n",
              "</table>\n",
              "</div>"
            ],
            "text/plain": [
              "   count\n",
              "0  23501"
            ]
          },
          "execution_count": 13,
          "metadata": {},
          "output_type": "execute_result"
        }
      ],
      "source": [
        "# результат запроса\n",
        "df_3_2 = pd.read_sql_query(query_3_2, connection)\n",
        "df_3_2\n",
        "# Количество работодателей = 23501"
      ]
    },
    {
      "cell_type": "markdown",
      "id": "a2bfff1f-c975-4bf6-84be-2185d79dcb76",
      "metadata": {
        "id": "a2bfff1f-c975-4bf6-84be-2185d79dcb76"
      },
      "source": [
        "3. Посчитате с помощью запроса количество регионов (таблица areas)."
      ]
    },
    {
      "cell_type": "code",
      "execution_count": 50,
      "id": "1m8QJwBYhey6",
      "metadata": {
        "id": "1m8QJwBYhey6"
      },
      "outputs": [],
      "source": [
        "# текст запроса\n",
        "query_3_3 = f'''select count(id)\n",
        "from areas\n",
        "'''"
      ]
    },
    {
      "cell_type": "code",
      "execution_count": 51,
      "id": "EZsn9tlfhe7f",
      "metadata": {
        "id": "EZsn9tlfhe7f"
      },
      "outputs": [
        {
          "name": "stderr",
          "output_type": "stream",
          "text": [
            "/var/folders/14/w5z30cwx541gq2kzys9tvttc0000gn/T/ipykernel_3298/3729486151.py:2: UserWarning: pandas only supports SQLAlchemy connectable (engine/connection) or database string URI or sqlite3 DBAPI2 connection. Other DBAPI2 objects are not tested. Please consider using SQLAlchemy.\n",
            "  df_3_3 = pd.read_sql_query(query_3_3, connection)\n"
          ]
        },
        {
          "data": {
            "text/html": [
              "<div>\n",
              "<style scoped>\n",
              "    .dataframe tbody tr th:only-of-type {\n",
              "        vertical-align: middle;\n",
              "    }\n",
              "\n",
              "    .dataframe tbody tr th {\n",
              "        vertical-align: top;\n",
              "    }\n",
              "\n",
              "    .dataframe thead th {\n",
              "        text-align: right;\n",
              "    }\n",
              "</style>\n",
              "<table border=\"1\" class=\"dataframe\">\n",
              "  <thead>\n",
              "    <tr style=\"text-align: right;\">\n",
              "      <th></th>\n",
              "      <th>count</th>\n",
              "    </tr>\n",
              "  </thead>\n",
              "  <tbody>\n",
              "    <tr>\n",
              "      <th>0</th>\n",
              "      <td>1362</td>\n",
              "    </tr>\n",
              "  </tbody>\n",
              "</table>\n",
              "</div>"
            ],
            "text/plain": [
              "   count\n",
              "0   1362"
            ]
          },
          "execution_count": 51,
          "metadata": {},
          "output_type": "execute_result"
        }
      ],
      "source": [
        "# результат запроса\n",
        "df_3_3 = pd.read_sql_query(query_3_3, connection)\n",
        "df_3_3\n",
        "# Количество регионов = 1362."
      ]
    },
    {
      "cell_type": "markdown",
      "id": "41bb59f3-53cc-4a67-a5bc-bedf573955e4",
      "metadata": {
        "id": "41bb59f3-53cc-4a67-a5bc-bedf573955e4"
      },
      "source": [
        "4. Посчитате с помощью запроса количество сфер деятельности в базе (таблица industries)."
      ]
    },
    {
      "cell_type": "code",
      "execution_count": 16,
      "id": "d286cf4c-707b-4cd2-9190-7ab3587d04a1",
      "metadata": {
        "id": "d286cf4c-707b-4cd2-9190-7ab3587d04a1"
      },
      "outputs": [],
      "source": [
        "# текст запроса\n",
        "query_3_4 = f'''select count(id)\n",
        "from industries\n",
        "'''"
      ]
    },
    {
      "cell_type": "code",
      "execution_count": 17,
      "id": "JYAaoZ4qhfzW",
      "metadata": {
        "id": "JYAaoZ4qhfzW"
      },
      "outputs": [
        {
          "name": "stderr",
          "output_type": "stream",
          "text": [
            "/var/folders/14/w5z30cwx541gq2kzys9tvttc0000gn/T/ipykernel_3298/822032040.py:2: UserWarning: pandas only supports SQLAlchemy connectable (engine/connection) or database string URI or sqlite3 DBAPI2 connection. Other DBAPI2 objects are not tested. Please consider using SQLAlchemy.\n",
            "  df_3_4 = pd.read_sql_query(query_3_4, connection)\n"
          ]
        },
        {
          "data": {
            "text/html": [
              "<div>\n",
              "<style scoped>\n",
              "    .dataframe tbody tr th:only-of-type {\n",
              "        vertical-align: middle;\n",
              "    }\n",
              "\n",
              "    .dataframe tbody tr th {\n",
              "        vertical-align: top;\n",
              "    }\n",
              "\n",
              "    .dataframe thead th {\n",
              "        text-align: right;\n",
              "    }\n",
              "</style>\n",
              "<table border=\"1\" class=\"dataframe\">\n",
              "  <thead>\n",
              "    <tr style=\"text-align: right;\">\n",
              "      <th></th>\n",
              "      <th>count</th>\n",
              "    </tr>\n",
              "  </thead>\n",
              "  <tbody>\n",
              "    <tr>\n",
              "      <th>0</th>\n",
              "      <td>294</td>\n",
              "    </tr>\n",
              "  </tbody>\n",
              "</table>\n",
              "</div>"
            ],
            "text/plain": [
              "   count\n",
              "0    294"
            ]
          },
          "execution_count": 17,
          "metadata": {},
          "output_type": "execute_result"
        }
      ],
      "source": [
        "# результат запроса\n",
        "df_3_4 = pd.read_sql_query(query_3_4, connection)\n",
        "df_3_4\n",
        "# Сфер деятельности 394."
      ]
    },
    {
      "cell_type": "code",
      "execution_count": 166,
      "id": "5a9dc446",
      "metadata": {},
      "outputs": [
        {
          "name": "stderr",
          "output_type": "stream",
          "text": [
            "/var/folders/14/w5z30cwx541gq2kzys9tvttc0000gn/T/ipykernel_8714/2253290460.py:13: UserWarning: pandas only supports SQLAlchemy connectable (engine/connection) or database string URI or sqlite3 DBAPI2 connection. Other DBAPI2 objects are not tested. Please consider using SQLAlchemy.\n",
            "  result_vac = pd.read_sql(query_vacancies, connection)\n"
          ]
        },
        {
          "data": {
            "text/html": [
              "<div>\n",
              "<style scoped>\n",
              "    .dataframe tbody tr th:only-of-type {\n",
              "        vertical-align: middle;\n",
              "    }\n",
              "\n",
              "    .dataframe tbody tr th {\n",
              "        vertical-align: top;\n",
              "    }\n",
              "\n",
              "    .dataframe thead th {\n",
              "        text-align: right;\n",
              "    }\n",
              "</style>\n",
              "<table border=\"1\" class=\"dataframe\">\n",
              "  <thead>\n",
              "    <tr style=\"text-align: right;\">\n",
              "      <th></th>\n",
              "      <th>employer</th>\n",
              "      <th>area</th>\n",
              "      <th>vac_cnt</th>\n",
              "    </tr>\n",
              "  </thead>\n",
              "  <tbody>\n",
              "    <tr>\n",
              "      <th>0</th>\n",
              "      <td>СБЕР</td>\n",
              "      <td>Москва</td>\n",
              "      <td>205</td>\n",
              "    </tr>\n",
              "    <tr>\n",
              "      <th>1</th>\n",
              "      <td>DataArt</td>\n",
              "      <td>Алматы</td>\n",
              "      <td>124</td>\n",
              "    </tr>\n",
              "    <tr>\n",
              "      <th>2</th>\n",
              "      <td>DataArt</td>\n",
              "      <td>Нур-Султан</td>\n",
              "      <td>123</td>\n",
              "    </tr>\n",
              "    <tr>\n",
              "      <th>3</th>\n",
              "      <td>МТС</td>\n",
              "      <td>Москва</td>\n",
              "      <td>122</td>\n",
              "    </tr>\n",
              "    <tr>\n",
              "      <th>4</th>\n",
              "      <td>Газпром нефть</td>\n",
              "      <td>Санкт-Петербург</td>\n",
              "      <td>121</td>\n",
              "    </tr>\n",
              "    <tr>\n",
              "      <th>5</th>\n",
              "      <td>VK</td>\n",
              "      <td>Москва</td>\n",
              "      <td>79</td>\n",
              "    </tr>\n",
              "    <tr>\n",
              "      <th>6</th>\n",
              "      <td>Ozon</td>\n",
              "      <td>Москва</td>\n",
              "      <td>72</td>\n",
              "    </tr>\n",
              "    <tr>\n",
              "      <th>7</th>\n",
              "      <td>МАГНИТ, Розничная сеть</td>\n",
              "      <td>Краснодар</td>\n",
              "      <td>68</td>\n",
              "    </tr>\n",
              "    <tr>\n",
              "      <th>8</th>\n",
              "      <td>Яндекс</td>\n",
              "      <td>Москва</td>\n",
              "      <td>54</td>\n",
              "    </tr>\n",
              "    <tr>\n",
              "      <th>9</th>\n",
              "      <td>Лига Цифровой Экономики</td>\n",
              "      <td>Москва</td>\n",
              "      <td>53</td>\n",
              "    </tr>\n",
              "    <tr>\n",
              "      <th>10</th>\n",
              "      <td>Тинькофф</td>\n",
              "      <td>Москва</td>\n",
              "      <td>51</td>\n",
              "    </tr>\n",
              "    <tr>\n",
              "      <th>11</th>\n",
              "      <td>ARRIVAL LTD</td>\n",
              "      <td>Тбилиси</td>\n",
              "      <td>48</td>\n",
              "    </tr>\n",
              "    <tr>\n",
              "      <th>12</th>\n",
              "      <td>DNS Головной офис</td>\n",
              "      <td>Владивосток</td>\n",
              "      <td>48</td>\n",
              "    </tr>\n",
              "    <tr>\n",
              "      <th>13</th>\n",
              "      <td>Bell Integrator</td>\n",
              "      <td>Саратов</td>\n",
              "      <td>47</td>\n",
              "    </tr>\n",
              "    <tr>\n",
              "      <th>14</th>\n",
              "      <td>Ак Барс Банк</td>\n",
              "      <td>Казань</td>\n",
              "      <td>46</td>\n",
              "    </tr>\n",
              "    <tr>\n",
              "      <th>15</th>\n",
              "      <td>Beeline, ТМ</td>\n",
              "      <td>Алматы</td>\n",
              "      <td>45</td>\n",
              "    </tr>\n",
              "    <tr>\n",
              "      <th>16</th>\n",
              "      <td>Альфа-Банк</td>\n",
              "      <td>Москва</td>\n",
              "      <td>45</td>\n",
              "    </tr>\n",
              "    <tr>\n",
              "      <th>17</th>\n",
              "      <td>Иннотех, Группа компаний</td>\n",
              "      <td>Москва</td>\n",
              "      <td>45</td>\n",
              "    </tr>\n",
              "    <tr>\n",
              "      <th>18</th>\n",
              "      <td>СофтКорп</td>\n",
              "      <td>Минск</td>\n",
              "      <td>45</td>\n",
              "    </tr>\n",
              "    <tr>\n",
              "      <th>19</th>\n",
              "      <td>Тинькофф</td>\n",
              "      <td>Нижний Новгород</td>\n",
              "      <td>43</td>\n",
              "    </tr>\n",
              "    <tr>\n",
              "      <th>20</th>\n",
              "      <td>Вайзор Геймз</td>\n",
              "      <td>Минск</td>\n",
              "      <td>42</td>\n",
              "    </tr>\n",
              "    <tr>\n",
              "      <th>21</th>\n",
              "      <td>Яндекс</td>\n",
              "      <td>Санкт-Петербург</td>\n",
              "      <td>42</td>\n",
              "    </tr>\n",
              "    <tr>\n",
              "      <th>22</th>\n",
              "      <td>VK</td>\n",
              "      <td>Санкт-Петербург</td>\n",
              "      <td>41</td>\n",
              "    </tr>\n",
              "    <tr>\n",
              "      <th>23</th>\n",
              "      <td>Совкомбанк Технологии</td>\n",
              "      <td>Новосибирск</td>\n",
              "      <td>41</td>\n",
              "    </tr>\n",
              "    <tr>\n",
              "      <th>24</th>\n",
              "      <td>Банк ВТБ (ПАО)</td>\n",
              "      <td>Москва</td>\n",
              "      <td>41</td>\n",
              "    </tr>\n",
              "    <tr>\n",
              "      <th>25</th>\n",
              "      <td>Яндекс</td>\n",
              "      <td>Екатеринбург</td>\n",
              "      <td>39</td>\n",
              "    </tr>\n",
              "    <tr>\n",
              "      <th>26</th>\n",
              "      <td>Газпром нефть</td>\n",
              "      <td>Омск</td>\n",
              "      <td>38</td>\n",
              "    </tr>\n",
              "    <tr>\n",
              "      <th>27</th>\n",
              "      <td>UNITEL LLC</td>\n",
              "      <td>Ташкент</td>\n",
              "      <td>38</td>\n",
              "    </tr>\n",
              "    <tr>\n",
              "      <th>28</th>\n",
              "      <td>Тензор</td>\n",
              "      <td>Ярославль</td>\n",
              "      <td>37</td>\n",
              "    </tr>\n",
              "    <tr>\n",
              "      <th>29</th>\n",
              "      <td>Яндекс</td>\n",
              "      <td>Нижний Новгород</td>\n",
              "      <td>36</td>\n",
              "    </tr>\n",
              "    <tr>\n",
              "      <th>30</th>\n",
              "      <td>Газпром нефть</td>\n",
              "      <td>Тюмень</td>\n",
              "      <td>36</td>\n",
              "    </tr>\n",
              "    <tr>\n",
              "      <th>31</th>\n",
              "      <td>Itransition</td>\n",
              "      <td>Тбилиси</td>\n",
              "      <td>35</td>\n",
              "    </tr>\n",
              "    <tr>\n",
              "      <th>32</th>\n",
              "      <td>SOFTSWISS</td>\n",
              "      <td>Тбилиси</td>\n",
              "      <td>35</td>\n",
              "    </tr>\n",
              "    <tr>\n",
              "      <th>33</th>\n",
              "      <td>Яндекс</td>\n",
              "      <td>Новосибирск</td>\n",
              "      <td>35</td>\n",
              "    </tr>\n",
              "    <tr>\n",
              "      <th>34</th>\n",
              "      <td>Ростелеком</td>\n",
              "      <td>Краснодар</td>\n",
              "      <td>35</td>\n",
              "    </tr>\n",
              "    <tr>\n",
              "      <th>35</th>\n",
              "      <td>Andersen</td>\n",
              "      <td>Армения</td>\n",
              "      <td>34</td>\n",
              "    </tr>\n",
              "    <tr>\n",
              "      <th>36</th>\n",
              "      <td>Центр финансовых технологий</td>\n",
              "      <td>Новосибирск</td>\n",
              "      <td>33</td>\n",
              "    </tr>\n",
              "    <tr>\n",
              "      <th>37</th>\n",
              "      <td>КАМАЗ</td>\n",
              "      <td>Набережные Челны</td>\n",
              "      <td>33</td>\n",
              "    </tr>\n",
              "    <tr>\n",
              "      <th>38</th>\n",
              "      <td>Банк Хоум Кредит, ДБ АО</td>\n",
              "      <td>Алматы</td>\n",
              "      <td>33</td>\n",
              "    </tr>\n",
              "    <tr>\n",
              "      <th>39</th>\n",
              "      <td>Tele2</td>\n",
              "      <td>Ростов-на-Дону</td>\n",
              "      <td>32</td>\n",
              "    </tr>\n",
              "    <tr>\n",
              "      <th>40</th>\n",
              "      <td>ИК СИБИНТЕК</td>\n",
              "      <td>Саратов</td>\n",
              "      <td>32</td>\n",
              "    </tr>\n",
              "    <tr>\n",
              "      <th>41</th>\n",
              "      <td>ИК СИБИНТЕК</td>\n",
              "      <td>Самара</td>\n",
              "      <td>32</td>\n",
              "    </tr>\n",
              "    <tr>\n",
              "      <th>42</th>\n",
              "      <td>Яндекс</td>\n",
              "      <td>Воронеж</td>\n",
              "      <td>32</td>\n",
              "    </tr>\n",
              "    <tr>\n",
              "      <th>43</th>\n",
              "      <td>АйСи Сервис</td>\n",
              "      <td>Симферополь</td>\n",
              "      <td>31</td>\n",
              "    </tr>\n",
              "    <tr>\n",
              "      <th>44</th>\n",
              "      <td>Контур</td>\n",
              "      <td>Екатеринбург</td>\n",
              "      <td>31</td>\n",
              "    </tr>\n",
              "    <tr>\n",
              "      <th>45</th>\n",
              "      <td>МТС</td>\n",
              "      <td>Краснодар</td>\n",
              "      <td>31</td>\n",
              "    </tr>\n",
              "    <tr>\n",
              "      <th>46</th>\n",
              "      <td>Andersen</td>\n",
              "      <td>Алматы</td>\n",
              "      <td>30</td>\n",
              "    </tr>\n",
              "    <tr>\n",
              "      <th>47</th>\n",
              "      <td>Мобайл Телеком-Сервис (Объединенная Компания T...</td>\n",
              "      <td>Алматы</td>\n",
              "      <td>30</td>\n",
              "    </tr>\n",
              "    <tr>\n",
              "      <th>48</th>\n",
              "      <td>ИнфоТеКС</td>\n",
              "      <td>Томск</td>\n",
              "      <td>30</td>\n",
              "    </tr>\n",
              "    <tr>\n",
              "      <th>49</th>\n",
              "      <td>Совкомбанк Технологии</td>\n",
              "      <td>Казань</td>\n",
              "      <td>30</td>\n",
              "    </tr>\n",
              "    <tr>\n",
              "      <th>50</th>\n",
              "      <td>СБЕР</td>\n",
              "      <td>Нижний Новгород</td>\n",
              "      <td>30</td>\n",
              "    </tr>\n",
              "    <tr>\n",
              "      <th>51</th>\n",
              "      <td>КБ Уральский банк реконструкции и развития (УБ...</td>\n",
              "      <td>Екатеринбург</td>\n",
              "      <td>30</td>\n",
              "    </tr>\n",
              "    <tr>\n",
              "      <th>52</th>\n",
              "      <td>СБЕР</td>\n",
              "      <td>Новосибирск</td>\n",
              "      <td>30</td>\n",
              "    </tr>\n",
              "    <tr>\n",
              "      <th>53</th>\n",
              "      <td>Яндекс</td>\n",
              "      <td>Краснодар</td>\n",
              "      <td>30</td>\n",
              "    </tr>\n",
              "    <tr>\n",
              "      <th>54</th>\n",
              "      <td>Ростелеком</td>\n",
              "      <td>Новосибирск</td>\n",
              "      <td>29</td>\n",
              "    </tr>\n",
              "    <tr>\n",
              "      <th>55</th>\n",
              "      <td>СБЕР</td>\n",
              "      <td>Самара</td>\n",
              "      <td>29</td>\n",
              "    </tr>\n",
              "    <tr>\n",
              "      <th>56</th>\n",
              "      <td>Тинькофф</td>\n",
              "      <td>Казань</td>\n",
              "      <td>28</td>\n",
              "    </tr>\n",
              "    <tr>\n",
              "      <th>57</th>\n",
              "      <td>ИК СИБИНТЕК</td>\n",
              "      <td>Красноярск</td>\n",
              "      <td>28</td>\n",
              "    </tr>\n",
              "    <tr>\n",
              "      <th>58</th>\n",
              "      <td>РУСАЛ, Центр подбора персонала</td>\n",
              "      <td>Красноярск</td>\n",
              "      <td>28</td>\n",
              "    </tr>\n",
              "    <tr>\n",
              "      <th>59</th>\n",
              "      <td>Группа компаний Современные транспортные техно...</td>\n",
              "      <td>Нижний Новгород</td>\n",
              "      <td>28</td>\n",
              "    </tr>\n",
              "  </tbody>\n",
              "</table>\n",
              "</div>"
            ],
            "text/plain": [
              "                                             employer              area  \\\n",
              "0                                                СБЕР            Москва   \n",
              "1                                             DataArt            Алматы   \n",
              "2                                             DataArt        Нур-Султан   \n",
              "3                                                 МТС            Москва   \n",
              "4                                       Газпром нефть   Санкт-Петербург   \n",
              "5                                                  VK            Москва   \n",
              "6                                                Ozon            Москва   \n",
              "7                              МАГНИТ, Розничная сеть         Краснодар   \n",
              "8                                              Яндекс            Москва   \n",
              "9                             Лига Цифровой Экономики            Москва   \n",
              "10                                           Тинькофф            Москва   \n",
              "11                                        ARRIVAL LTD           Тбилиси   \n",
              "12                                  DNS Головной офис       Владивосток   \n",
              "13                                    Bell Integrator           Саратов   \n",
              "14                                       Ак Барс Банк            Казань   \n",
              "15                                        Beeline, ТМ            Алматы   \n",
              "16                                         Альфа-Банк            Москва   \n",
              "17                           Иннотех, Группа компаний            Москва   \n",
              "18                                           СофтКорп             Минск   \n",
              "19                                           Тинькофф   Нижний Новгород   \n",
              "20                                       Вайзор Геймз             Минск   \n",
              "21                                             Яндекс   Санкт-Петербург   \n",
              "22                                                 VK   Санкт-Петербург   \n",
              "23                              Совкомбанк Технологии       Новосибирск   \n",
              "24                                     Банк ВТБ (ПАО)            Москва   \n",
              "25                                             Яндекс      Екатеринбург   \n",
              "26                                      Газпром нефть              Омск   \n",
              "27                                         UNITEL LLC           Ташкент   \n",
              "28                                             Тензор         Ярославль   \n",
              "29                                             Яндекс   Нижний Новгород   \n",
              "30                                      Газпром нефть            Тюмень   \n",
              "31                                        Itransition           Тбилиси   \n",
              "32                                          SOFTSWISS           Тбилиси   \n",
              "33                                             Яндекс       Новосибирск   \n",
              "34                                         Ростелеком         Краснодар   \n",
              "35                                           Andersen           Армения   \n",
              "36                        Центр финансовых технологий       Новосибирск   \n",
              "37                                              КАМАЗ  Набережные Челны   \n",
              "38                            Банк Хоум Кредит, ДБ АО            Алматы   \n",
              "39                                              Tele2    Ростов-на-Дону   \n",
              "40                                        ИК СИБИНТЕК           Саратов   \n",
              "41                                        ИК СИБИНТЕК            Самара   \n",
              "42                                             Яндекс           Воронеж   \n",
              "43                                        АйСи Сервис       Симферополь   \n",
              "44                                             Контур      Екатеринбург   \n",
              "45                                                МТС         Краснодар   \n",
              "46                                           Andersen            Алматы   \n",
              "47  Мобайл Телеком-Сервис (Объединенная Компания T...            Алматы   \n",
              "48                                           ИнфоТеКС             Томск   \n",
              "49                              Совкомбанк Технологии            Казань   \n",
              "50                                               СБЕР   Нижний Новгород   \n",
              "51  КБ Уральский банк реконструкции и развития (УБ...      Екатеринбург   \n",
              "52                                               СБЕР       Новосибирск   \n",
              "53                                             Яндекс         Краснодар   \n",
              "54                                         Ростелеком       Новосибирск   \n",
              "55                                               СБЕР            Самара   \n",
              "56                                           Тинькофф            Казань   \n",
              "57                                        ИК СИБИНТЕК        Красноярск   \n",
              "58                     РУСАЛ, Центр подбора персонала        Красноярск   \n",
              "59  Группа компаний Современные транспортные техно...   Нижний Новгород   \n",
              "\n",
              "    vac_cnt  \n",
              "0       205  \n",
              "1       124  \n",
              "2       123  \n",
              "3       122  \n",
              "4       121  \n",
              "5        79  \n",
              "6        72  \n",
              "7        68  \n",
              "8        54  \n",
              "9        53  \n",
              "10       51  \n",
              "11       48  \n",
              "12       48  \n",
              "13       47  \n",
              "14       46  \n",
              "15       45  \n",
              "16       45  \n",
              "17       45  \n",
              "18       45  \n",
              "19       43  \n",
              "20       42  \n",
              "21       42  \n",
              "22       41  \n",
              "23       41  \n",
              "24       41  \n",
              "25       39  \n",
              "26       38  \n",
              "27       38  \n",
              "28       37  \n",
              "29       36  \n",
              "30       36  \n",
              "31       35  \n",
              "32       35  \n",
              "33       35  \n",
              "34       35  \n",
              "35       34  \n",
              "36       33  \n",
              "37       33  \n",
              "38       33  \n",
              "39       32  \n",
              "40       32  \n",
              "41       32  \n",
              "42       32  \n",
              "43       31  \n",
              "44       31  \n",
              "45       31  \n",
              "46       30  \n",
              "47       30  \n",
              "48       30  \n",
              "49       30  \n",
              "50       30  \n",
              "51       30  \n",
              "52       30  \n",
              "53       30  \n",
              "54       29  \n",
              "55       29  \n",
              "56       28  \n",
              "57       28  \n",
              "58       28  \n",
              "59       28  "
            ]
          },
          "execution_count": 166,
          "metadata": {},
          "output_type": "execute_result"
        }
      ],
      "source": [
        "# Для того, чтобы сделать выводы по предварительному анализу данных, посмотрим на данные о том, \n",
        "# сколько вакансий предлагает каждая компания и в каком регионе.  \n",
        " \n",
        "query_vacancies = f'''select e.name as employer, a.name as area, count(v.id) vac_cnt\n",
        "from vacancies v \n",
        "join areas a on v.area_id = a.id\n",
        "join employers e on v.employer_id = e.id\n",
        "GROUP BY e.name, a.name\n",
        "ORDER BY vac_cnt desc\n",
        "LIMIT 60\n",
        "'''\n",
        "\n",
        "result_vac = pd.read_sql(query_vacancies, connection)\n",
        "result_vac"
      ]
    },
    {
      "cell_type": "markdown",
      "id": "d7da3ea4",
      "metadata": {},
      "source": [
        "Выводы по предварительному анализу данных:\n",
        "Данные в таблицах о вакансиях, регионах, работодателях связаны между собой по ключевым столбцам (id), что делает возможным комбинирование данных удобным для анализа образом.\n",
        "Говоря о взаимосвязи данных, можно отметить, что количество работодателей (23 501) меньше количества предлагаемых вакансий (49 197) более чем в два раза. \n",
        "Однако, распределение вакансий относительно работодателей неравномерно: \n",
        "например, налоговая служба в Нижнем Новгороде разместила предложение об одной свободной вакансии, \n",
        "в то время как Сбербанк в г. Москва разместил на hh 205 вакансий.\n",
        "Следовательно, можно сказать об очевидной зависимости количества вакансий от масштаба компании и численности населения города, в котором требуется определенный специалист. \n"
      ]
    },
    {
      "cell_type": "markdown",
      "id": "9a8a2181-6914-448b-85f1-38f5f18b8a93",
      "metadata": {
        "id": "9a8a2181-6914-448b-85f1-38f5f18b8a93"
      },
      "source": [
        "***"
      ]
    },
    {
      "cell_type": "markdown",
      "id": "8d62a9f3-f64e-4fe7-bdac-c4dffa16155e",
      "metadata": {
        "id": "8d62a9f3-f64e-4fe7-bdac-c4dffa16155e"
      },
      "source": [
        "# Юнит 4. Детальный анализ вакансий"
      ]
    },
    {
      "cell_type": "markdown",
      "id": "93053d3d-b284-481a-9cf7-012d7014c0e0",
      "metadata": {
        "id": "93053d3d-b284-481a-9cf7-012d7014c0e0"
      },
      "source": [
        "1. Напишите запрос, который позволит узнать, сколько (cnt) вакансий в каждом регионе (area).\n",
        "Отсортируйте по количеству вакансий в порядке убывания."
      ]
    },
    {
      "cell_type": "code",
      "execution_count": 20,
      "id": "3f069da6-fdc9-4ae7-b514-fafe2675efd3",
      "metadata": {
        "id": "3f069da6-fdc9-4ae7-b514-fafe2675efd3"
      },
      "outputs": [],
      "source": [
        "# текст запроса\n",
        "query_4_1 = f'''SELECT\n",
        "    count(vacancies.id) as cnt, areas.name as area\n",
        "FROM\n",
        "    vacancies left join areas on vacancies.area_id = areas.id\n",
        "GROUP BY areas.name\n",
        "ORDER BY count(vacancies.id) desc'''\n"
      ]
    },
    {
      "cell_type": "code",
      "execution_count": 21,
      "id": "P7QL86hrjhRJ",
      "metadata": {
        "id": "P7QL86hrjhRJ"
      },
      "outputs": [
        {
          "name": "stderr",
          "output_type": "stream",
          "text": [
            "/var/folders/14/w5z30cwx541gq2kzys9tvttc0000gn/T/ipykernel_3298/3869464411.py:2: UserWarning: pandas only supports SQLAlchemy connectable (engine/connection) or database string URI or sqlite3 DBAPI2 connection. Other DBAPI2 objects are not tested. Please consider using SQLAlchemy.\n",
            "  cnt = pd.read_sql_query(query_4_1, connection)\n"
          ]
        },
        {
          "data": {
            "text/html": [
              "<div>\n",
              "<style scoped>\n",
              "    .dataframe tbody tr th:only-of-type {\n",
              "        vertical-align: middle;\n",
              "    }\n",
              "\n",
              "    .dataframe tbody tr th {\n",
              "        vertical-align: top;\n",
              "    }\n",
              "\n",
              "    .dataframe thead th {\n",
              "        text-align: right;\n",
              "    }\n",
              "</style>\n",
              "<table border=\"1\" class=\"dataframe\">\n",
              "  <thead>\n",
              "    <tr style=\"text-align: right;\">\n",
              "      <th></th>\n",
              "      <th>cnt</th>\n",
              "      <th>area</th>\n",
              "    </tr>\n",
              "  </thead>\n",
              "  <tbody>\n",
              "    <tr>\n",
              "      <th>0</th>\n",
              "      <td>5333</td>\n",
              "      <td>Москва</td>\n",
              "    </tr>\n",
              "    <tr>\n",
              "      <th>1</th>\n",
              "      <td>2851</td>\n",
              "      <td>Санкт-Петербург</td>\n",
              "    </tr>\n",
              "    <tr>\n",
              "      <th>2</th>\n",
              "      <td>2112</td>\n",
              "      <td>Минск</td>\n",
              "    </tr>\n",
              "    <tr>\n",
              "      <th>3</th>\n",
              "      <td>2006</td>\n",
              "      <td>Новосибирск</td>\n",
              "    </tr>\n",
              "    <tr>\n",
              "      <th>4</th>\n",
              "      <td>1892</td>\n",
              "      <td>Алматы</td>\n",
              "    </tr>\n",
              "    <tr>\n",
              "      <th>...</th>\n",
              "      <td>...</td>\n",
              "      <td>...</td>\n",
              "    </tr>\n",
              "    <tr>\n",
              "      <th>764</th>\n",
              "      <td>1</td>\n",
              "      <td>Тарко-Сале</td>\n",
              "    </tr>\n",
              "    <tr>\n",
              "      <th>765</th>\n",
              "      <td>1</td>\n",
              "      <td>Новоаннинский</td>\n",
              "    </tr>\n",
              "    <tr>\n",
              "      <th>766</th>\n",
              "      <td>1</td>\n",
              "      <td>Бирск</td>\n",
              "    </tr>\n",
              "    <tr>\n",
              "      <th>767</th>\n",
              "      <td>1</td>\n",
              "      <td>Сасово</td>\n",
              "    </tr>\n",
              "    <tr>\n",
              "      <th>768</th>\n",
              "      <td>1</td>\n",
              "      <td>Анна</td>\n",
              "    </tr>\n",
              "  </tbody>\n",
              "</table>\n",
              "<p>769 rows × 2 columns</p>\n",
              "</div>"
            ],
            "text/plain": [
              "      cnt             area\n",
              "0    5333           Москва\n",
              "1    2851  Санкт-Петербург\n",
              "2    2112            Минск\n",
              "3    2006      Новосибирск\n",
              "4    1892           Алматы\n",
              "..    ...              ...\n",
              "764     1       Тарко-Сале\n",
              "765     1    Новоаннинский\n",
              "766     1            Бирск\n",
              "767     1           Сасово\n",
              "768     1             Анна\n",
              "\n",
              "[769 rows x 2 columns]"
            ]
          },
          "execution_count": 21,
          "metadata": {},
          "output_type": "execute_result"
        }
      ],
      "source": [
        "# результат запроса\n",
        "cnt = pd.read_sql_query(query_4_1, connection)\n",
        "cnt\n",
        "# В результате выполнения запроса в ячейке выше, увидим, \n",
        "# что топ 5 городов по количеству вакансий: Москва, Санкт-Петербург, Минск, Новосибирск, Алматы."
      ]
    },
    {
      "cell_type": "markdown",
      "id": "4266f0b6-1646-492a-88b4-2f6a46502135",
      "metadata": {
        "id": "4266f0b6-1646-492a-88b4-2f6a46502135"
      },
      "source": [
        "2. Напишите запрос, чтобы определить у какого количества вакансий заполнено хотя бы одно из двух полей с зарплатой."
      ]
    },
    {
      "cell_type": "code",
      "execution_count": 22,
      "id": "0c44b350-72eb-4d65-8b54-a1fc449ba9fd",
      "metadata": {
        "id": "0c44b350-72eb-4d65-8b54-a1fc449ba9fd"
      },
      "outputs": [],
      "source": [
        "# текст запроса\n",
        "query_4_2 = f'''SELECT \n",
        "    count(vacancies.id)\n",
        "FROM \n",
        "    vacancies\n",
        "WHERE salary_from is not null or salary_to is not null\n",
        "'''"
      ]
    },
    {
      "cell_type": "code",
      "execution_count": 23,
      "id": "rhvwaMDkoWTi",
      "metadata": {
        "id": "rhvwaMDkoWTi"
      },
      "outputs": [
        {
          "name": "stderr",
          "output_type": "stream",
          "text": [
            "/var/folders/14/w5z30cwx541gq2kzys9tvttc0000gn/T/ipykernel_3298/4179562550.py:2: UserWarning: pandas only supports SQLAlchemy connectable (engine/connection) or database string URI or sqlite3 DBAPI2 connection. Other DBAPI2 objects are not tested. Please consider using SQLAlchemy.\n",
            "  result_4_2 = pd.read_sql_query(query_4_2, connection)\n"
          ]
        },
        {
          "data": {
            "text/html": [
              "<div>\n",
              "<style scoped>\n",
              "    .dataframe tbody tr th:only-of-type {\n",
              "        vertical-align: middle;\n",
              "    }\n",
              "\n",
              "    .dataframe tbody tr th {\n",
              "        vertical-align: top;\n",
              "    }\n",
              "\n",
              "    .dataframe thead th {\n",
              "        text-align: right;\n",
              "    }\n",
              "</style>\n",
              "<table border=\"1\" class=\"dataframe\">\n",
              "  <thead>\n",
              "    <tr style=\"text-align: right;\">\n",
              "      <th></th>\n",
              "      <th>count</th>\n",
              "    </tr>\n",
              "  </thead>\n",
              "  <tbody>\n",
              "    <tr>\n",
              "      <th>0</th>\n",
              "      <td>24073</td>\n",
              "    </tr>\n",
              "  </tbody>\n",
              "</table>\n",
              "</div>"
            ],
            "text/plain": [
              "   count\n",
              "0  24073"
            ]
          },
          "execution_count": 23,
          "metadata": {},
          "output_type": "execute_result"
        }
      ],
      "source": [
        "# результат запроса = 24073 вакансии, в которых указана хотя бы одна граница заработной платы\n",
        "result_4_2 = pd.read_sql_query(query_4_2, connection)\n",
        "result_4_2"
      ]
    },
    {
      "cell_type": "markdown",
      "id": "635c4d5d-f323-4c66-b428-50a088120aa0",
      "metadata": {
        "id": "635c4d5d-f323-4c66-b428-50a088120aa0"
      },
      "source": [
        "3. Найдите средние значения для нижней и верхней границы зарплатной вилки. Округлите значения до целого."
      ]
    },
    {
      "cell_type": "code",
      "execution_count": 24,
      "id": "603cdbe4-0ec3-4106-8eaf-c73fcdd29165",
      "metadata": {
        "id": "603cdbe4-0ec3-4106-8eaf-c73fcdd29165"
      },
      "outputs": [],
      "source": [
        "# текст запроса\n",
        "query_4_3 = f'''SELECT \n",
        "    round(AVG(salary_from)) as \"Среднее значение для нижней границы зп\",\n",
        "    round(AVG(salary_to)) as \"Среднее значение для верхней границы зп\"\n",
        "FROM\n",
        "    vacancies\n",
        "    '''"
      ]
    },
    {
      "cell_type": "code",
      "execution_count": 25,
      "id": "pswpAb66ovZZ",
      "metadata": {
        "id": "pswpAb66ovZZ"
      },
      "outputs": [
        {
          "name": "stderr",
          "output_type": "stream",
          "text": [
            "/var/folders/14/w5z30cwx541gq2kzys9tvttc0000gn/T/ipykernel_3298/2521755017.py:3: UserWarning: pandas only supports SQLAlchemy connectable (engine/connection) or database string URI or sqlite3 DBAPI2 connection. Other DBAPI2 objects are not tested. Please consider using SQLAlchemy.\n",
            "  result_4_3 = pd.read_sql_query(query_4_3, connection)\n"
          ]
        },
        {
          "data": {
            "text/html": [
              "<div>\n",
              "<style scoped>\n",
              "    .dataframe tbody tr th:only-of-type {\n",
              "        vertical-align: middle;\n",
              "    }\n",
              "\n",
              "    .dataframe tbody tr th {\n",
              "        vertical-align: top;\n",
              "    }\n",
              "\n",
              "    .dataframe thead th {\n",
              "        text-align: right;\n",
              "    }\n",
              "</style>\n",
              "<table border=\"1\" class=\"dataframe\">\n",
              "  <thead>\n",
              "    <tr style=\"text-align: right;\">\n",
              "      <th></th>\n",
              "      <th>Среднее значение для нижней грани</th>\n",
              "      <th>Среднее значение для верхней гран</th>\n",
              "    </tr>\n",
              "  </thead>\n",
              "  <tbody>\n",
              "    <tr>\n",
              "      <th>0</th>\n",
              "      <td>71065.0</td>\n",
              "      <td>110537.0</td>\n",
              "    </tr>\n",
              "  </tbody>\n",
              "</table>\n",
              "</div>"
            ],
            "text/plain": [
              "   Среднее значение для нижней грани  Среднее значение для верхней гран\n",
              "0                            71065.0                           110537.0"
            ]
          },
          "execution_count": 25,
          "metadata": {},
          "output_type": "execute_result"
        }
      ],
      "source": [
        "# результат запроса: Среднее значение для нижней границы зп = 71 065; \n",
        "# Среднее значение для верхней границы зп = 110 537.\n",
        "result_4_3 = pd.read_sql_query(query_4_3, connection)\n",
        "result_4_3"
      ]
    },
    {
      "cell_type": "markdown",
      "id": "f3fdaec9-5fd3-4260-9cf5-1d7406b628a5",
      "metadata": {
        "id": "f3fdaec9-5fd3-4260-9cf5-1d7406b628a5"
      },
      "source": [
        "4. Напишите запрос, который выведет количество вакансий для каждого сочетания типа рабочего графика (schedule) и типа трудоустройства (employment), используемого в вакансиях. Результат отсортируйте по убыванию количества.\n"
      ]
    },
    {
      "cell_type": "code",
      "execution_count": 26,
      "id": "1ea710ec-871b-431e-9462-c7d0fd87011b",
      "metadata": {
        "id": "1ea710ec-871b-431e-9462-c7d0fd87011b"
      },
      "outputs": [],
      "source": [
        "# текст запроса\n",
        "query_4_4 = f'''SELECT \n",
        "    count(id), schedule, employment\n",
        "FROM\n",
        "    vacancies\n",
        "GROUP BY schedule, employment\n",
        "ORDER BY count(id) desc\n",
        "'''"
      ]
    },
    {
      "cell_type": "code",
      "execution_count": 27,
      "id": "lGUVqavdo4JQ",
      "metadata": {
        "id": "lGUVqavdo4JQ"
      },
      "outputs": [
        {
          "name": "stderr",
          "output_type": "stream",
          "text": [
            "/var/folders/14/w5z30cwx541gq2kzys9tvttc0000gn/T/ipykernel_3298/3961283977.py:2: UserWarning: pandas only supports SQLAlchemy connectable (engine/connection) or database string URI or sqlite3 DBAPI2 connection. Other DBAPI2 objects are not tested. Please consider using SQLAlchemy.\n",
            "  result_4_4 = pd.read_sql_query(query_4_4, connection)\n"
          ]
        },
        {
          "data": {
            "text/html": [
              "<div>\n",
              "<style scoped>\n",
              "    .dataframe tbody tr th:only-of-type {\n",
              "        vertical-align: middle;\n",
              "    }\n",
              "\n",
              "    .dataframe tbody tr th {\n",
              "        vertical-align: top;\n",
              "    }\n",
              "\n",
              "    .dataframe thead th {\n",
              "        text-align: right;\n",
              "    }\n",
              "</style>\n",
              "<table border=\"1\" class=\"dataframe\">\n",
              "  <thead>\n",
              "    <tr style=\"text-align: right;\">\n",
              "      <th></th>\n",
              "      <th>count</th>\n",
              "      <th>schedule</th>\n",
              "      <th>employment</th>\n",
              "    </tr>\n",
              "  </thead>\n",
              "  <tbody>\n",
              "    <tr>\n",
              "      <th>0</th>\n",
              "      <td>35367</td>\n",
              "      <td>Полный день</td>\n",
              "      <td>Полная занятость</td>\n",
              "    </tr>\n",
              "    <tr>\n",
              "      <th>1</th>\n",
              "      <td>7802</td>\n",
              "      <td>Удаленная работа</td>\n",
              "      <td>Полная занятость</td>\n",
              "    </tr>\n",
              "    <tr>\n",
              "      <th>2</th>\n",
              "      <td>1593</td>\n",
              "      <td>Гибкий график</td>\n",
              "      <td>Полная занятость</td>\n",
              "    </tr>\n",
              "    <tr>\n",
              "      <th>3</th>\n",
              "      <td>1312</td>\n",
              "      <td>Удаленная работа</td>\n",
              "      <td>Частичная занятость</td>\n",
              "    </tr>\n",
              "    <tr>\n",
              "      <th>4</th>\n",
              "      <td>940</td>\n",
              "      <td>Сменный график</td>\n",
              "      <td>Полная занятость</td>\n",
              "    </tr>\n",
              "    <tr>\n",
              "      <th>5</th>\n",
              "      <td>569</td>\n",
              "      <td>Полный день</td>\n",
              "      <td>Стажировка</td>\n",
              "    </tr>\n",
              "    <tr>\n",
              "      <th>6</th>\n",
              "      <td>367</td>\n",
              "      <td>Вахтовый метод</td>\n",
              "      <td>Полная занятость</td>\n",
              "    </tr>\n",
              "    <tr>\n",
              "      <th>7</th>\n",
              "      <td>347</td>\n",
              "      <td>Полный день</td>\n",
              "      <td>Частичная занятость</td>\n",
              "    </tr>\n",
              "    <tr>\n",
              "      <th>8</th>\n",
              "      <td>312</td>\n",
              "      <td>Гибкий график</td>\n",
              "      <td>Частичная занятость</td>\n",
              "    </tr>\n",
              "    <tr>\n",
              "      <th>9</th>\n",
              "      <td>141</td>\n",
              "      <td>Полный день</td>\n",
              "      <td>Проектная работа</td>\n",
              "    </tr>\n",
              "    <tr>\n",
              "      <th>10</th>\n",
              "      <td>133</td>\n",
              "      <td>Удаленная работа</td>\n",
              "      <td>Проектная работа</td>\n",
              "    </tr>\n",
              "    <tr>\n",
              "      <th>11</th>\n",
              "      <td>116</td>\n",
              "      <td>Гибкий график</td>\n",
              "      <td>Стажировка</td>\n",
              "    </tr>\n",
              "    <tr>\n",
              "      <th>12</th>\n",
              "      <td>101</td>\n",
              "      <td>Сменный график</td>\n",
              "      <td>Частичная занятость</td>\n",
              "    </tr>\n",
              "    <tr>\n",
              "      <th>13</th>\n",
              "      <td>64</td>\n",
              "      <td>Удаленная работа</td>\n",
              "      <td>Стажировка</td>\n",
              "    </tr>\n",
              "    <tr>\n",
              "      <th>14</th>\n",
              "      <td>18</td>\n",
              "      <td>Гибкий график</td>\n",
              "      <td>Проектная работа</td>\n",
              "    </tr>\n",
              "    <tr>\n",
              "      <th>15</th>\n",
              "      <td>12</td>\n",
              "      <td>Сменный график</td>\n",
              "      <td>Стажировка</td>\n",
              "    </tr>\n",
              "    <tr>\n",
              "      <th>16</th>\n",
              "      <td>2</td>\n",
              "      <td>Вахтовый метод</td>\n",
              "      <td>Проектная работа</td>\n",
              "    </tr>\n",
              "    <tr>\n",
              "      <th>17</th>\n",
              "      <td>1</td>\n",
              "      <td>Сменный график</td>\n",
              "      <td>Проектная работа</td>\n",
              "    </tr>\n",
              "  </tbody>\n",
              "</table>\n",
              "</div>"
            ],
            "text/plain": [
              "    count          schedule           employment\n",
              "0   35367       Полный день     Полная занятость\n",
              "1    7802  Удаленная работа     Полная занятость\n",
              "2    1593     Гибкий график     Полная занятость\n",
              "3    1312  Удаленная работа  Частичная занятость\n",
              "4     940    Сменный график     Полная занятость\n",
              "5     569       Полный день           Стажировка\n",
              "6     367    Вахтовый метод     Полная занятость\n",
              "7     347       Полный день  Частичная занятость\n",
              "8     312     Гибкий график  Частичная занятость\n",
              "9     141       Полный день     Проектная работа\n",
              "10    133  Удаленная работа     Проектная работа\n",
              "11    116     Гибкий график           Стажировка\n",
              "12    101    Сменный график  Частичная занятость\n",
              "13     64  Удаленная работа           Стажировка\n",
              "14     18     Гибкий график     Проектная работа\n",
              "15     12    Сменный график           Стажировка\n",
              "16      2    Вахтовый метод     Проектная работа\n",
              "17      1    Сменный график     Проектная работа"
            ]
          },
          "execution_count": 27,
          "metadata": {},
          "output_type": "execute_result"
        }
      ],
      "source": [
        "# результат запроса\n",
        "result_4_4 = pd.read_sql_query(query_4_4, connection)\n",
        "result_4_4\n",
        "\n",
        "# На втором месте по популярности Удаленная работа с полной занятостью."
      ]
    },
    {
      "cell_type": "markdown",
      "id": "0136ffee-0ead-4a6b-b608-61d1c753a438",
      "metadata": {
        "id": "0136ffee-0ead-4a6b-b608-61d1c753a438"
      },
      "source": [
        "5. Напишите запрос, выводящий значения поля Требуемый опыт работы (experience) в порядке возрастания количества вакансий, в которых указан данный вариант опыта. "
      ]
    },
    {
      "cell_type": "code",
      "execution_count": 28,
      "id": "5b3a8e79-f7ab-4008-b767-12aea3a205ea",
      "metadata": {
        "id": "5b3a8e79-f7ab-4008-b767-12aea3a205ea"
      },
      "outputs": [],
      "source": [
        "# текст запроса\n",
        "query_4_5 = f'''SELECT \n",
        "    count(id), experience\n",
        "FROM\n",
        "    vacancies\n",
        "WHERE experience is not null\n",
        "GROUP BY experience\n",
        "ORDER BY count(id)\n",
        "'''"
      ]
    },
    {
      "cell_type": "code",
      "execution_count": 29,
      "id": "3Is64Y-hpDpq",
      "metadata": {
        "id": "3Is64Y-hpDpq"
      },
      "outputs": [
        {
          "name": "stderr",
          "output_type": "stream",
          "text": [
            "/var/folders/14/w5z30cwx541gq2kzys9tvttc0000gn/T/ipykernel_3298/212014282.py:6: UserWarning: pandas only supports SQLAlchemy connectable (engine/connection) or database string URI or sqlite3 DBAPI2 connection. Other DBAPI2 objects are not tested. Please consider using SQLAlchemy.\n",
            "  result_4_5 = pd.read_sql_query(query_4_5, connection)\n"
          ]
        },
        {
          "data": {
            "text/html": [
              "<div>\n",
              "<style scoped>\n",
              "    .dataframe tbody tr th:only-of-type {\n",
              "        vertical-align: middle;\n",
              "    }\n",
              "\n",
              "    .dataframe tbody tr th {\n",
              "        vertical-align: top;\n",
              "    }\n",
              "\n",
              "    .dataframe thead th {\n",
              "        text-align: right;\n",
              "    }\n",
              "</style>\n",
              "<table border=\"1\" class=\"dataframe\">\n",
              "  <thead>\n",
              "    <tr style=\"text-align: right;\">\n",
              "      <th></th>\n",
              "      <th>count</th>\n",
              "      <th>experience</th>\n",
              "    </tr>\n",
              "  </thead>\n",
              "  <tbody>\n",
              "    <tr>\n",
              "      <th>0</th>\n",
              "      <td>1337</td>\n",
              "      <td>Более 6 лет</td>\n",
              "    </tr>\n",
              "    <tr>\n",
              "      <th>1</th>\n",
              "      <td>7197</td>\n",
              "      <td>Нет опыта</td>\n",
              "    </tr>\n",
              "    <tr>\n",
              "      <th>2</th>\n",
              "      <td>14511</td>\n",
              "      <td>От 3 до 6 лет</td>\n",
              "    </tr>\n",
              "    <tr>\n",
              "      <th>3</th>\n",
              "      <td>26152</td>\n",
              "      <td>От 1 года до 3 лет</td>\n",
              "    </tr>\n",
              "  </tbody>\n",
              "</table>\n",
              "</div>"
            ],
            "text/plain": [
              "   count          experience\n",
              "0   1337         Более 6 лет\n",
              "1   7197           Нет опыта\n",
              "2  14511       От 3 до 6 лет\n",
              "3  26152  От 1 года до 3 лет"
            ]
          },
          "execution_count": 29,
          "metadata": {},
          "output_type": "execute_result"
        }
      ],
      "source": [
        "# результат запроса: самый часто встречающийся запрос необходимого опыта работы - от 1 года до 3 лет, \n",
        "# затем от 3 до 6 лет. \n",
        "# На третьем месте по популярности вакансии, на которые могут взять кандидата без опыта работы. \n",
        "# Наименее популярный требуемый опыт работы - более 6 лет.\n",
        "\n",
        "result_4_5 = pd.read_sql_query(query_4_5, connection)\n",
        "result_4_5"
      ]
    },
    {
      "cell_type": "markdown",
      "id": "fca636ed",
      "metadata": {},
      "source": [
        "# выводы по детальному анализу вакансий\n",
        "Совершенно логичная взаимосвязь прослеживается в том, как численность населения города, в котором работодатель хочет найти специалиста влияет на количество вакансий в этом городе. В крупных городах часто расположены филиалы крупных компаний, для комплектации штата которого неоьходимо приивлечения большого количества сотрудников. Так же, возможно в крупных городах более сильная текучка кадров.\n",
        "\n",
        "Из 49 197 вакансий информация о зарплате (хотя бы одна из границ: нижняя или верхняя) есть только в 24 073 вакансиях.\n",
        "Причин тому может быть несколько: слишком много факторов для конкретного работодателя могут повлиять на уровень заработной платы, которую он готов предложить. Вероятно, слишком широкий диапазон может смутить соискателя. В таком случае было бы лучше сказать об уровне заработной платы после прохождения собеседования или в ответ на отправленное резюме соискателя.\n",
        "Другой причиной может быть желание начать с кандидатом диалог, в ходе которого рекрутер может с большей уверенностью отказать в собеседовании или наоборот назначить встречу, нежели просто при просмотре резюме, не тратив время на личную встречу.\n",
        "Еще одной возможной причиной может быть планирование ввести в компании новую должность. Таким образом, можно проанализировать портрет кандидатов, которые интресуются данной позицией, понимать на какую заработную плату они рассчитывают. Вероятно, это не самый популярный способ для того, чтобы сформировать портрет кандидата и его финансовые ожидания, но возможный.\n",
        "Говоря о конкретных цифрах, можно отметить, что средняя нижняя граница находится на уровне 71 065 руб., а верхняя средняя граница = 110 537 руб.\n",
        "\n",
        "Говоря о типе занятости и графике работы, можно отметить, что на третьем месте по популярности - гибкий график при полной заятости.\n",
        "На втором месте, с отрывом в 4,8 раз - вакансии, которые предполагают удаленную работу при полной занятости.\n",
        "На первом месте, с отрываом в 4,5 раза лидирует полный рабочий день и полная занятость.\n",
        "Вероятно, на это влияет как специфика работы (важно ли физическое присутствие специалиста), так и предпочтительный для работордателя формат работы (при удаленной работе нет издержек на содержание офисов и тд), или требуемый результат работы: например, когда важно только достижение конкретной цели, большая свобода в виде гибкого графика, вероятно может положительно сказаться на результа и сказаться на привлекательности жтой вакансии для кандидата.\n",
        "\n",
        "В большей части вакансий требуемый опыт работы - от 1 года до 3 лет. \n",
        "Но втором месте по полуряности  - необходимый опыт работы от 3 до 6 лет.\n",
        "На третьем месте по количеству вакансий находятся позиии, на которые работодатели готовы взять сотрудников без опыта работы. \n",
        "На четвертом месте - необходимый опыт работы более 6 лет. \n",
        "Это можно объяснить тем, что на более высокую должность невозможо взять специалиста без опыта работы или даже с минимальным опытом. Однако, руководящих позиций обычно меньше, чем открытых вакансий для специалистов, которых в зависимости от профессиональной области можно обучить с нуля или же взять специалиста с небольшим опытом работы."
      ]
    },
    {
      "cell_type": "markdown",
      "id": "oq2b7n1QpIka",
      "metadata": {
        "id": "oq2b7n1QpIka"
      },
      "source": [
        "***"
      ]
    },
    {
      "cell_type": "markdown",
      "id": "7ea20ab6-04a7-40a0-adec-443a0e5a42c3",
      "metadata": {
        "id": "7ea20ab6-04a7-40a0-adec-443a0e5a42c3"
      },
      "source": [
        "# Юнит 5. Анализ работодателей"
      ]
    },
    {
      "cell_type": "markdown",
      "id": "968aed80-74ef-4ffb-b5bf-c65b84e9caea",
      "metadata": {
        "id": "968aed80-74ef-4ffb-b5bf-c65b84e9caea"
      },
      "source": [
        "1. Напишите запрос, который позволит узнать, какие работодатели находятся на первом и пятом месте по количеству вакансий."
      ]
    },
    {
      "cell_type": "code",
      "execution_count": 30,
      "id": "f2d62796-d400-4ec1-a675-88112739a50e",
      "metadata": {
        "id": "f2d62796-d400-4ec1-a675-88112739a50e"
      },
      "outputs": [],
      "source": [
        "query5_1 = f'''SELECT \n",
        "    employers.name as name, count(vacancies.id) as vacancies\n",
        "FROM \n",
        "    vacancies left join employers on vacancies.employer_id = employers.id\n",
        "GROUP BY employers.name\n",
        "ORDER BY count(vacancies.id) desc\n",
        "LIMIT 5\n",
        "'''"
      ]
    },
    {
      "cell_type": "code",
      "execution_count": 31,
      "id": "64tOMkAxqkQk",
      "metadata": {
        "id": "64tOMkAxqkQk"
      },
      "outputs": [
        {
          "name": "stderr",
          "output_type": "stream",
          "text": [
            "/var/folders/14/w5z30cwx541gq2kzys9tvttc0000gn/T/ipykernel_3298/2306165267.py:2: UserWarning: pandas only supports SQLAlchemy connectable (engine/connection) or database string URI or sqlite3 DBAPI2 connection. Other DBAPI2 objects are not tested. Please consider using SQLAlchemy.\n",
            "  result5_1 = pd.read_sql_query(query5_1, connection)\n"
          ]
        },
        {
          "data": {
            "text/html": [
              "<div>\n",
              "<style scoped>\n",
              "    .dataframe tbody tr th:only-of-type {\n",
              "        vertical-align: middle;\n",
              "    }\n",
              "\n",
              "    .dataframe tbody tr th {\n",
              "        vertical-align: top;\n",
              "    }\n",
              "\n",
              "    .dataframe thead th {\n",
              "        text-align: right;\n",
              "    }\n",
              "</style>\n",
              "<table border=\"1\" class=\"dataframe\">\n",
              "  <thead>\n",
              "    <tr style=\"text-align: right;\">\n",
              "      <th></th>\n",
              "      <th>name</th>\n",
              "      <th>vacancies</th>\n",
              "    </tr>\n",
              "  </thead>\n",
              "  <tbody>\n",
              "    <tr>\n",
              "      <th>0</th>\n",
              "      <td>Яндекс</td>\n",
              "      <td>1933</td>\n",
              "    </tr>\n",
              "    <tr>\n",
              "      <th>1</th>\n",
              "      <td>Ростелеком</td>\n",
              "      <td>491</td>\n",
              "    </tr>\n",
              "    <tr>\n",
              "      <th>2</th>\n",
              "      <td>Тинькофф</td>\n",
              "      <td>444</td>\n",
              "    </tr>\n",
              "    <tr>\n",
              "      <th>3</th>\n",
              "      <td>СБЕР</td>\n",
              "      <td>428</td>\n",
              "    </tr>\n",
              "    <tr>\n",
              "      <th>4</th>\n",
              "      <td>Газпром нефть</td>\n",
              "      <td>331</td>\n",
              "    </tr>\n",
              "  </tbody>\n",
              "</table>\n",
              "</div>"
            ],
            "text/plain": [
              "            name  vacancies\n",
              "0         Яндекс       1933\n",
              "1     Ростелеком        491\n",
              "2       Тинькофф        444\n",
              "3           СБЕР        428\n",
              "4  Газпром нефть        331"
            ]
          },
          "execution_count": 31,
          "metadata": {},
          "output_type": "execute_result"
        }
      ],
      "source": [
        "# результат запроса\n",
        "result5_1 = pd.read_sql_query(query5_1, connection)\n",
        "result5_1\n",
        "\n",
        "#По количеству вакансий на первом месте находится Яндекс, а на пятом месте находится Газпром нефть."
      ]
    },
    {
      "cell_type": "markdown",
      "id": "68377cfc-b378-43dc-ab7d-1195abf2c515",
      "metadata": {
        "id": "68377cfc-b378-43dc-ab7d-1195abf2c515"
      },
      "source": [
        "2. Напишите запрос, который для каждого региона выведет количество работодателей и вакансий в нём.\n",
        "Среди регионов, в которых нет вакансий, найдите тот, в котором наибольшее количество работодателей.\n"
      ]
    },
    {
      "cell_type": "code",
      "execution_count": 8,
      "id": "a5fa37e8",
      "metadata": {},
      "outputs": [
        {
          "name": "stderr",
          "output_type": "stream",
          "text": [
            "/var/folders/14/w5z30cwx541gq2kzys9tvttc0000gn/T/ipykernel_1532/1952549832.py:11: UserWarning: pandas only supports SQLAlchemy connectable (engine/connection) or database string URI or sqlite3 DBAPI2 connection. Other DBAPI2 objects are not tested. Please consider using SQLAlchemy.\n",
            "  result_5_2_1 = pd.read_sql_query(query_5_2_1, connection)\n"
          ]
        },
        {
          "data": {
            "text/html": [
              "<div>\n",
              "<style scoped>\n",
              "    .dataframe tbody tr th:only-of-type {\n",
              "        vertical-align: middle;\n",
              "    }\n",
              "\n",
              "    .dataframe tbody tr th {\n",
              "        vertical-align: top;\n",
              "    }\n",
              "\n",
              "    .dataframe thead th {\n",
              "        text-align: right;\n",
              "    }\n",
              "</style>\n",
              "<table border=\"1\" class=\"dataframe\">\n",
              "  <thead>\n",
              "    <tr style=\"text-align: right;\">\n",
              "      <th></th>\n",
              "      <th>area</th>\n",
              "      <th>cnt_emp</th>\n",
              "      <th>cnt_vac</th>\n",
              "    </tr>\n",
              "  </thead>\n",
              "  <tbody>\n",
              "    <tr>\n",
              "      <th>0</th>\n",
              "      <td>Москва</td>\n",
              "      <td>5864</td>\n",
              "      <td>5333</td>\n",
              "    </tr>\n",
              "    <tr>\n",
              "      <th>1</th>\n",
              "      <td>Санкт-Петербург</td>\n",
              "      <td>2217</td>\n",
              "      <td>2851</td>\n",
              "    </tr>\n",
              "    <tr>\n",
              "      <th>2</th>\n",
              "      <td>Минск</td>\n",
              "      <td>1115</td>\n",
              "      <td>2112</td>\n",
              "    </tr>\n",
              "    <tr>\n",
              "      <th>3</th>\n",
              "      <td>Алматы</td>\n",
              "      <td>721</td>\n",
              "      <td>1892</td>\n",
              "    </tr>\n",
              "    <tr>\n",
              "      <th>4</th>\n",
              "      <td>Екатеринбург</td>\n",
              "      <td>609</td>\n",
              "      <td>1698</td>\n",
              "    </tr>\n",
              "    <tr>\n",
              "      <th>...</th>\n",
              "      <td>...</td>\n",
              "      <td>...</td>\n",
              "      <td>...</td>\n",
              "    </tr>\n",
              "    <tr>\n",
              "      <th>463</th>\n",
              "      <td>Рассказово</td>\n",
              "      <td>1</td>\n",
              "      <td>1</td>\n",
              "    </tr>\n",
              "    <tr>\n",
              "      <th>464</th>\n",
              "      <td>Донской</td>\n",
              "      <td>1</td>\n",
              "      <td>3</td>\n",
              "    </tr>\n",
              "    <tr>\n",
              "      <th>465</th>\n",
              "      <td>Ефремов</td>\n",
              "      <td>1</td>\n",
              "      <td>4</td>\n",
              "    </tr>\n",
              "    <tr>\n",
              "      <th>466</th>\n",
              "      <td>Кимовск</td>\n",
              "      <td>1</td>\n",
              "      <td>2</td>\n",
              "    </tr>\n",
              "    <tr>\n",
              "      <th>467</th>\n",
              "      <td>Невьянск</td>\n",
              "      <td>1</td>\n",
              "      <td>1</td>\n",
              "    </tr>\n",
              "  </tbody>\n",
              "</table>\n",
              "<p>468 rows × 3 columns</p>\n",
              "</div>"
            ],
            "text/plain": [
              "                area  cnt_emp  cnt_vac\n",
              "0             Москва     5864     5333\n",
              "1    Санкт-Петербург     2217     2851\n",
              "2              Минск     1115     2112\n",
              "3             Алматы      721     1892\n",
              "4       Екатеринбург      609     1698\n",
              "..               ...      ...      ...\n",
              "463       Рассказово        1        1\n",
              "464          Донской        1        3\n",
              "465          Ефремов        1        4\n",
              "466          Кимовск        1        2\n",
              "467         Невьянск        1        1\n",
              "\n",
              "[468 rows x 3 columns]"
            ]
          },
          "execution_count": 8,
          "metadata": {},
          "output_type": "execute_result"
        }
      ],
      "source": [
        "query_5_2_1 = f'''SELECT\n",
        "    a.name as area, count(distinct e.id) as cnt_emp, count(distinct v.id) as cnt_vac\n",
        "FROM \n",
        "    areas a\n",
        "    join employers e on e.area = a.id\n",
        "    join vacancies v on v.area_id = a.id\n",
        "GROUP BY a.id\n",
        "ORDER BY cnt_emp desc\n",
        "'''\n",
        "\n",
        "result_5_2_1 = pd.read_sql_query(query_5_2_1, connection)\n",
        "result_5_2_1"
      ]
    },
    {
      "cell_type": "code",
      "execution_count": 9,
      "id": "ca6f15ed",
      "metadata": {},
      "outputs": [],
      "source": [
        "query_5_2_2 = f'''select a.name as area, count(distinct e.id) as employers_amount, count(distinct v.id) as vac_amount\n",
        "from\n",
        "    areas a\n",
        "    left join employers e on e.area = a.id\n",
        "    left join vacancies v on v.area_id = e.area \n",
        "where v.id is null\n",
        "group by a.name\n",
        "order by 2 desc\n",
        "'''"
      ]
    },
    {
      "cell_type": "code",
      "execution_count": 10,
      "id": "x1ikWbydrbf6",
      "metadata": {
        "id": "x1ikWbydrbf6"
      },
      "outputs": [
        {
          "name": "stderr",
          "output_type": "stream",
          "text": [
            "/var/folders/14/w5z30cwx541gq2kzys9tvttc0000gn/T/ipykernel_1389/3250244395.py:2: UserWarning: pandas only supports SQLAlchemy connectable (engine/connection) or database string URI or sqlite3 DBAPI2 connection. Other DBAPI2 objects are not tested. Please consider using SQLAlchemy.\n",
            "  result_5_2_2 = pd.read_sql_query(query_5_2_2, connection)\n"
          ]
        },
        {
          "data": {
            "text/html": [
              "<div>\n",
              "<style scoped>\n",
              "    .dataframe tbody tr th:only-of-type {\n",
              "        vertical-align: middle;\n",
              "    }\n",
              "\n",
              "    .dataframe tbody tr th {\n",
              "        vertical-align: top;\n",
              "    }\n",
              "\n",
              "    .dataframe thead th {\n",
              "        text-align: right;\n",
              "    }\n",
              "</style>\n",
              "<table border=\"1\" class=\"dataframe\">\n",
              "  <thead>\n",
              "    <tr style=\"text-align: right;\">\n",
              "      <th></th>\n",
              "      <th>area</th>\n",
              "      <th>employers_amount</th>\n",
              "      <th>vac_amount</th>\n",
              "    </tr>\n",
              "  </thead>\n",
              "  <tbody>\n",
              "    <tr>\n",
              "      <th>0</th>\n",
              "      <td>Россия</td>\n",
              "      <td>410</td>\n",
              "      <td>0</td>\n",
              "    </tr>\n",
              "    <tr>\n",
              "      <th>1</th>\n",
              "      <td>Казахстан</td>\n",
              "      <td>207</td>\n",
              "      <td>0</td>\n",
              "    </tr>\n",
              "    <tr>\n",
              "      <th>2</th>\n",
              "      <td>Московская область</td>\n",
              "      <td>75</td>\n",
              "      <td>0</td>\n",
              "    </tr>\n",
              "    <tr>\n",
              "      <th>3</th>\n",
              "      <td>Краснодарский край</td>\n",
              "      <td>19</td>\n",
              "      <td>0</td>\n",
              "    </tr>\n",
              "    <tr>\n",
              "      <th>4</th>\n",
              "      <td>Беларусь</td>\n",
              "      <td>18</td>\n",
              "      <td>0</td>\n",
              "    </tr>\n",
              "    <tr>\n",
              "      <th>...</th>\n",
              "      <td>...</td>\n",
              "      <td>...</td>\n",
              "      <td>...</td>\n",
              "    </tr>\n",
              "    <tr>\n",
              "      <th>889</th>\n",
              "      <td>Жабинка</td>\n",
              "      <td>0</td>\n",
              "      <td>0</td>\n",
              "    </tr>\n",
              "    <tr>\n",
              "      <th>890</th>\n",
              "      <td>Железногорск-Илимский</td>\n",
              "      <td>0</td>\n",
              "      <td>0</td>\n",
              "    </tr>\n",
              "    <tr>\n",
              "      <th>891</th>\n",
              "      <td>Жетысай</td>\n",
              "      <td>0</td>\n",
              "      <td>0</td>\n",
              "    </tr>\n",
              "    <tr>\n",
              "      <th>892</th>\n",
              "      <td>Жигалово</td>\n",
              "      <td>0</td>\n",
              "      <td>0</td>\n",
              "    </tr>\n",
              "    <tr>\n",
              "      <th>893</th>\n",
              "      <td>Жирновск</td>\n",
              "      <td>0</td>\n",
              "      <td>0</td>\n",
              "    </tr>\n",
              "  </tbody>\n",
              "</table>\n",
              "<p>894 rows × 3 columns</p>\n",
              "</div>"
            ],
            "text/plain": [
              "                      area  employers_amount  vac_amount\n",
              "0                   Россия               410           0\n",
              "1                Казахстан               207           0\n",
              "2       Московская область                75           0\n",
              "3       Краснодарский край                19           0\n",
              "4                 Беларусь                18           0\n",
              "..                     ...               ...         ...\n",
              "889                Жабинка                 0           0\n",
              "890  Железногорск-Илимский                 0           0\n",
              "891                Жетысай                 0           0\n",
              "892               Жигалово                 0           0\n",
              "893               Жирновск                 0           0\n",
              "\n",
              "[894 rows x 3 columns]"
            ]
          },
          "execution_count": 10,
          "metadata": {},
          "output_type": "execute_result"
        }
      ],
      "source": [
        "# результат запроса\n",
        "result_5_2_2 = pd.read_sql_query(query_5_2_2, connection)\n",
        "result_5_2_2\n",
        "\n",
        "# В результате получаем, что регион, в котором нет вакансий, наибольший по количеству работодателей - Россия."
      ]
    },
    {
      "cell_type": "markdown",
      "id": "f2fe0acb-ab1a-4e15-9326-2560e22d73c1",
      "metadata": {
        "id": "f2fe0acb-ab1a-4e15-9326-2560e22d73c1"
      },
      "source": [
        "3. Для каждого работодателя посчитайте количество регионов, в которых он публикует свои вакансии. Отсортируйте результат по убыванию количества.\n"
      ]
    },
    {
      "cell_type": "code",
      "execution_count": 6,
      "id": "6271f8ad-bd2e-4196-ae4a-5b39c4c1010e",
      "metadata": {
        "id": "6271f8ad-bd2e-4196-ae4a-5b39c4c1010e"
      },
      "outputs": [],
      "source": [
        "# текст запроса\n",
        "query_5_3 = f'''SELECT \n",
        "employer_id, count(distinct area_id)\n",
        "FROM vacancies\n",
        "GROUP BY employer_id\n",
        "ORDER BY 2 desc\n",
        "'''"
      ]
    },
    {
      "cell_type": "code",
      "execution_count": 7,
      "id": "1EIvX3HasH4F",
      "metadata": {
        "id": "1EIvX3HasH4F"
      },
      "outputs": [
        {
          "name": "stderr",
          "output_type": "stream",
          "text": [
            "/var/folders/14/w5z30cwx541gq2kzys9tvttc0000gn/T/ipykernel_1389/3334885135.py:2: UserWarning: pandas only supports SQLAlchemy connectable (engine/connection) or database string URI or sqlite3 DBAPI2 connection. Other DBAPI2 objects are not tested. Please consider using SQLAlchemy.\n",
            "  result_5_3 = pd.read_sql(query_5_3, connection)\n"
          ]
        },
        {
          "data": {
            "text/html": [
              "<div>\n",
              "<style scoped>\n",
              "    .dataframe tbody tr th:only-of-type {\n",
              "        vertical-align: middle;\n",
              "    }\n",
              "\n",
              "    .dataframe tbody tr th {\n",
              "        vertical-align: top;\n",
              "    }\n",
              "\n",
              "    .dataframe thead th {\n",
              "        text-align: right;\n",
              "    }\n",
              "</style>\n",
              "<table border=\"1\" class=\"dataframe\">\n",
              "  <thead>\n",
              "    <tr style=\"text-align: right;\">\n",
              "      <th></th>\n",
              "      <th>employer_id</th>\n",
              "      <th>count</th>\n",
              "    </tr>\n",
              "  </thead>\n",
              "  <tbody>\n",
              "    <tr>\n",
              "      <th>0</th>\n",
              "      <td>1740</td>\n",
              "      <td>181</td>\n",
              "    </tr>\n",
              "    <tr>\n",
              "      <th>1</th>\n",
              "      <td>2748</td>\n",
              "      <td>152</td>\n",
              "    </tr>\n",
              "    <tr>\n",
              "      <th>2</th>\n",
              "      <td>5724811</td>\n",
              "      <td>116</td>\n",
              "    </tr>\n",
              "    <tr>\n",
              "      <th>3</th>\n",
              "      <td>5130287</td>\n",
              "      <td>88</td>\n",
              "    </tr>\n",
              "    <tr>\n",
              "      <th>4</th>\n",
              "      <td>3682876</td>\n",
              "      <td>71</td>\n",
              "    </tr>\n",
              "    <tr>\n",
              "      <th>...</th>\n",
              "      <td>...</td>\n",
              "      <td>...</td>\n",
              "    </tr>\n",
              "    <tr>\n",
              "      <th>14901</th>\n",
              "      <td>810278</td>\n",
              "      <td>1</td>\n",
              "    </tr>\n",
              "    <tr>\n",
              "      <th>14902</th>\n",
              "      <td>810313</td>\n",
              "      <td>1</td>\n",
              "    </tr>\n",
              "    <tr>\n",
              "      <th>14903</th>\n",
              "      <td>810551</td>\n",
              "      <td>1</td>\n",
              "    </tr>\n",
              "    <tr>\n",
              "      <th>14904</th>\n",
              "      <td>810688</td>\n",
              "      <td>1</td>\n",
              "    </tr>\n",
              "    <tr>\n",
              "      <th>14905</th>\n",
              "      <td>811902</td>\n",
              "      <td>1</td>\n",
              "    </tr>\n",
              "  </tbody>\n",
              "</table>\n",
              "<p>14906 rows × 2 columns</p>\n",
              "</div>"
            ],
            "text/plain": [
              "       employer_id  count\n",
              "0             1740    181\n",
              "1             2748    152\n",
              "2          5724811    116\n",
              "3          5130287     88\n",
              "4          3682876     71\n",
              "...            ...    ...\n",
              "14901       810278      1\n",
              "14902       810313      1\n",
              "14903       810551      1\n",
              "14904       810688      1\n",
              "14905       811902      1\n",
              "\n",
              "[14906 rows x 2 columns]"
            ]
          },
          "execution_count": 7,
          "metadata": {},
          "output_type": "execute_result"
        }
      ],
      "source": [
        "# результат запроса\n",
        "result_5_3 = pd.read_sql(query_5_3, connection)\n",
        "result_5_3\n",
        "\n",
        "# В результате запроса узнаем, что максимальное количество регионов, в котором работодатель публикует свои вакансии - 181."
      ]
    },
    {
      "cell_type": "markdown",
      "id": "eab2206d-d95b-468b-8e5f-34381abf0ce7",
      "metadata": {
        "id": "eab2206d-d95b-468b-8e5f-34381abf0ce7"
      },
      "source": [
        "4. Напишите запрос для подсчёта количества работодателей, у которых не указана сфера деятельности. "
      ]
    },
    {
      "cell_type": "code",
      "execution_count": 7,
      "id": "80defb23-bfb1-4a18-8be6-bf36aa7165d5",
      "metadata": {
        "id": "80defb23-bfb1-4a18-8be6-bf36aa7165d5"
      },
      "outputs": [
        {
          "name": "stderr",
          "output_type": "stream",
          "text": [
            "/var/folders/14/w5z30cwx541gq2kzys9tvttc0000gn/T/ipykernel_1532/3711328211.py:9: UserWarning: pandas only supports SQLAlchemy connectable (engine/connection) or database string URI or sqlite3 DBAPI2 connection. Other DBAPI2 objects are not tested. Please consider using SQLAlchemy.\n",
            "  result_5_4 = pd.read_sql_query(query_5_4, connection)\n"
          ]
        },
        {
          "data": {
            "text/html": [
              "<div>\n",
              "<style scoped>\n",
              "    .dataframe tbody tr th:only-of-type {\n",
              "        vertical-align: middle;\n",
              "    }\n",
              "\n",
              "    .dataframe tbody tr th {\n",
              "        vertical-align: top;\n",
              "    }\n",
              "\n",
              "    .dataframe thead th {\n",
              "        text-align: right;\n",
              "    }\n",
              "</style>\n",
              "<table border=\"1\" class=\"dataframe\">\n",
              "  <thead>\n",
              "    <tr style=\"text-align: right;\">\n",
              "      <th></th>\n",
              "      <th>count</th>\n",
              "    </tr>\n",
              "  </thead>\n",
              "  <tbody>\n",
              "    <tr>\n",
              "      <th>0</th>\n",
              "      <td>8419</td>\n",
              "    </tr>\n",
              "  </tbody>\n",
              "</table>\n",
              "</div>"
            ],
            "text/plain": [
              "   count\n",
              "0   8419"
            ]
          },
          "execution_count": 7,
          "metadata": {},
          "output_type": "execute_result"
        }
      ],
      "source": [
        "# текст запроса\n",
        "query_5_4 = f'''SELECT count(e.id)\n",
        "FROM \n",
        "    employers e\n",
        "    left join employers_industries ei on e.id = ei.employer_id\n",
        "WHERE industry_id is null\n",
        "'''"
      ]
    },
    {
      "cell_type": "code",
      "execution_count": null,
      "id": "Dp_yCx6ysQSu",
      "metadata": {
        "id": "Dp_yCx6ysQSu"
      },
      "outputs": [],
      "source": [
        "# результат запроса\n",
        "result_5_4 = pd.read_sql_query(query_5_4, connection)\n",
        "result_5_4\n",
        "\n",
        "# В результате выполнения запроса получаем, что у 8419 работодателей не указана сфера деятельности."
      ]
    },
    {
      "cell_type": "markdown",
      "id": "0112af31-f6b0-4e3b-82ab-71296e752e5e",
      "metadata": {
        "id": "0112af31-f6b0-4e3b-82ab-71296e752e5e"
      },
      "source": [
        "5. Напишите запрос, чтобы узнать название компании, находящейся на третьем месте в алфавитном списке (по названию) компаний, у которых указано четыре сферы деятельности. "
      ]
    },
    {
      "cell_type": "code",
      "execution_count": 29,
      "id": "973b0cfc-a972-470a-8b4a-68744ef220c4",
      "metadata": {
        "id": "973b0cfc-a972-470a-8b4a-68744ef220c4"
      },
      "outputs": [],
      "source": [
        "# текст запроса\n",
        "query_5_5 = f'''SELECT e.name\n",
        "FROM employers e left join employers_industries ei on e.id = ei.employer_id\n",
        "GROUP BY e.name\n",
        "HAVING count(ei.industry_id) = 4\n",
        "ORDER BY e.name\n",
        "OFFSET 2\n",
        "LIMIT 1\n",
        "'''"
      ]
    },
    {
      "cell_type": "code",
      "execution_count": 30,
      "id": "xsPtpp8EsaED",
      "metadata": {
        "id": "xsPtpp8EsaED"
      },
      "outputs": [
        {
          "name": "stderr",
          "output_type": "stream",
          "text": [
            "/var/folders/14/w5z30cwx541gq2kzys9tvttc0000gn/T/ipykernel_1532/461755949.py:2: UserWarning: pandas only supports SQLAlchemy connectable (engine/connection) or database string URI or sqlite3 DBAPI2 connection. Other DBAPI2 objects are not tested. Please consider using SQLAlchemy.\n",
            "  result_5_5 = pd.read_sql_query(query_5_5, connection)\n"
          ]
        },
        {
          "data": {
            "text/html": [
              "<div>\n",
              "<style scoped>\n",
              "    .dataframe tbody tr th:only-of-type {\n",
              "        vertical-align: middle;\n",
              "    }\n",
              "\n",
              "    .dataframe tbody tr th {\n",
              "        vertical-align: top;\n",
              "    }\n",
              "\n",
              "    .dataframe thead th {\n",
              "        text-align: right;\n",
              "    }\n",
              "</style>\n",
              "<table border=\"1\" class=\"dataframe\">\n",
              "  <thead>\n",
              "    <tr style=\"text-align: right;\">\n",
              "      <th></th>\n",
              "      <th>name</th>\n",
              "    </tr>\n",
              "  </thead>\n",
              "  <tbody>\n",
              "    <tr>\n",
              "      <th>0</th>\n",
              "      <td>2ГИС</td>\n",
              "    </tr>\n",
              "  </tbody>\n",
              "</table>\n",
              "</div>"
            ],
            "text/plain": [
              "   name\n",
              "0  2ГИС"
            ]
          },
          "execution_count": 30,
          "metadata": {},
          "output_type": "execute_result"
        }
      ],
      "source": [
        "# результат запроса\n",
        "result_5_5 = pd.read_sql_query(query_5_5, connection)\n",
        "result_5_5\n",
        "\n",
        "# Ответ: \"2ГИС\""
      ]
    },
    {
      "cell_type": "markdown",
      "id": "3bfcfdaf-755d-4d2b-8ed8-326201dc07ab",
      "metadata": {
        "id": "3bfcfdaf-755d-4d2b-8ed8-326201dc07ab"
      },
      "source": [
        "6. С помощью запроса выясните, у какого количества работодателей в качестве сферы деятельности указана Разработка программного обеспечения.\n"
      ]
    },
    {
      "cell_type": "code",
      "execution_count": 40,
      "id": "ad3f270f-2991-47eb-929b-e8f88a55b0d1",
      "metadata": {
        "id": "ad3f270f-2991-47eb-929b-e8f88a55b0d1"
      },
      "outputs": [],
      "source": [
        "# текст запроса\n",
        "query_5_6 = f'''SELECT count(i.name)\n",
        "FROM employers_industries ei left join industries i on ei.industry_id = i.id\n",
        "WHERE i.name LIKE 'Разработка программного обеспечения'\n",
        "'''\n"
      ]
    },
    {
      "cell_type": "code",
      "execution_count": 41,
      "id": "H72qxWM0shPR",
      "metadata": {
        "id": "H72qxWM0shPR"
      },
      "outputs": [
        {
          "name": "stderr",
          "output_type": "stream",
          "text": [
            "/var/folders/14/w5z30cwx541gq2kzys9tvttc0000gn/T/ipykernel_1532/2006184108.py:2: UserWarning: pandas only supports SQLAlchemy connectable (engine/connection) or database string URI or sqlite3 DBAPI2 connection. Other DBAPI2 objects are not tested. Please consider using SQLAlchemy.\n",
            "  result_5_6 = pd.read_sql_query(query_5_6, connection)\n"
          ]
        },
        {
          "data": {
            "text/html": [
              "<div>\n",
              "<style scoped>\n",
              "    .dataframe tbody tr th:only-of-type {\n",
              "        vertical-align: middle;\n",
              "    }\n",
              "\n",
              "    .dataframe tbody tr th {\n",
              "        vertical-align: top;\n",
              "    }\n",
              "\n",
              "    .dataframe thead th {\n",
              "        text-align: right;\n",
              "    }\n",
              "</style>\n",
              "<table border=\"1\" class=\"dataframe\">\n",
              "  <thead>\n",
              "    <tr style=\"text-align: right;\">\n",
              "      <th></th>\n",
              "      <th>count</th>\n",
              "    </tr>\n",
              "  </thead>\n",
              "  <tbody>\n",
              "    <tr>\n",
              "      <th>0</th>\n",
              "      <td>3553</td>\n",
              "    </tr>\n",
              "  </tbody>\n",
              "</table>\n",
              "</div>"
            ],
            "text/plain": [
              "   count\n",
              "0   3553"
            ]
          },
          "execution_count": 41,
          "metadata": {},
          "output_type": "execute_result"
        }
      ],
      "source": [
        "# результат запроса\n",
        "result_5_6 = pd.read_sql_query(query_5_6, connection)\n",
        "result_5_6\n",
        "\n",
        "# У 3553 работодателей 'Разработка программного обеспечения' указана как сфера их деятельности."
      ]
    },
    {
      "cell_type": "markdown",
      "id": "7b02bb86-0546-40fb-94a4-242f050a5c57",
      "metadata": {
        "id": "7b02bb86-0546-40fb-94a4-242f050a5c57"
      },
      "source": [
        "7. Для компании «Яндекс» выведите список регионов-миллионников, в которых представлены вакансии компании, вместе с количеством вакансий в этих регионах. Также добавьте строку Total с общим количеством вакансий компании. Результат отсортируйте по возрастанию количества.\n",
        "\n",
        "Список городов-милионников надо взять [отсюда](https://ru.wikipedia.org/wiki/%D0%93%D0%BE%D1%80%D0%BE%D0%B4%D0%B0-%D0%BC%D0%B8%D0%BB%D0%BB%D0%B8%D0%BE%D0%BD%D0%B5%D1%80%D1%8B_%D0%A0%D0%BE%D1%81%D1%81%D0%B8%D0%B8). \n",
        "\n",
        "Если возникнут трудности с этим задание посмотрите материалы модуля  PYTHON-17. Как получать данные из веб-источников и API. "
      ]
    },
    {
      "cell_type": "code",
      "execution_count": 80,
      "id": "ZdfrL6gIs1Pn",
      "metadata": {
        "id": "ZdfrL6gIs1Pn"
      },
      "outputs": [
        {
          "name": "stdout",
          "output_type": "stream",
          "text": [
            "('Москва', 'Санкт-Петербург', 'Новосибирск', 'Екатеринбург', 'Казань', 'Нижний Новгород', 'Красноярск', 'Челябинск', 'Самара', 'Уфа', 'Ростов-на-Дону', 'Краснодар', 'Омск', 'Воронеж', 'Пермь', 'Волгоград')\n"
          ]
        }
      ],
      "source": [
        "# код для получения списка городов-милионников\n",
        "import requests\n",
        "from bs4 import BeautifulSoup\n",
        "\n",
        "url = 'https://ru.wikipedia.org/wiki/Города-миллионеры_России'\n",
        "response = requests.get(url)\n",
        "page = BeautifulSoup(response.text, 'html.parser')\n",
        "\n",
        "cities = str(page.find('table', class_ = 'standard'))\n",
        "cities = cities.split('title=\"')[3:]\n",
        "million_cities = []\n",
        "for i in cities:\n",
        "    million_cities.append(i.split('\">')[0])\n",
        "\n",
        "million_cities = tuple(million_cities)\n",
        "print(million_cities)\n"
      ]
    },
    {
      "cell_type": "code",
      "execution_count": 198,
      "id": "c5df5e93",
      "metadata": {},
      "outputs": [],
      "source": [
        "# текст запроса\n",
        "\n",
        "query_5_7 = f'''with abc as \n",
        "(SELECT\n",
        "    a.name as name, count(distinct v.id) as cnt\n",
        "FROM\n",
        "    vacancies v\n",
        "    join areas a on area_id = a.id\n",
        "    join employers e on v.employer_id = e.id\n",
        "WHERE\n",
        "    (e.name LIKE 'Яндекс') and (a.name in {million_cities})\n",
        "GROUP BY a.id\n",
        "ORDER BY cnt)\n",
        "\n",
        "\n",
        "(SELECT *\n",
        "FROM abc)\n",
        "\n",
        "UNION ALL\n",
        "\n",
        "(SELECT\n",
        "    'total', sum(cnt) as total\n",
        "FROM abc) \n",
        "'''"
      ]
    },
    {
      "cell_type": "code",
      "execution_count": 199,
      "id": "0941d436",
      "metadata": {},
      "outputs": [
        {
          "name": "stderr",
          "output_type": "stream",
          "text": [
            "/var/folders/14/w5z30cwx541gq2kzys9tvttc0000gn/T/ipykernel_1128/786645949.py:2: UserWarning: pandas only supports SQLAlchemy connectable (engine/connection) or database string URI or sqlite3 DBAPI2 connection. Other DBAPI2 objects are not tested. Please consider using SQLAlchemy.\n",
            "  result_5_7 = pd.read_sql_query(query_5_7, connection)\n"
          ]
        },
        {
          "data": {
            "text/html": [
              "<div>\n",
              "<style scoped>\n",
              "    .dataframe tbody tr th:only-of-type {\n",
              "        vertical-align: middle;\n",
              "    }\n",
              "\n",
              "    .dataframe tbody tr th {\n",
              "        vertical-align: top;\n",
              "    }\n",
              "\n",
              "    .dataframe thead th {\n",
              "        text-align: right;\n",
              "    }\n",
              "</style>\n",
              "<table border=\"1\" class=\"dataframe\">\n",
              "  <thead>\n",
              "    <tr style=\"text-align: right;\">\n",
              "      <th></th>\n",
              "      <th>name</th>\n",
              "      <th>cnt</th>\n",
              "    </tr>\n",
              "  </thead>\n",
              "  <tbody>\n",
              "    <tr>\n",
              "      <th>0</th>\n",
              "      <td>Омск</td>\n",
              "      <td>21.0</td>\n",
              "    </tr>\n",
              "    <tr>\n",
              "      <th>1</th>\n",
              "      <td>Челябинск</td>\n",
              "      <td>22.0</td>\n",
              "    </tr>\n",
              "    <tr>\n",
              "      <th>2</th>\n",
              "      <td>Красноярск</td>\n",
              "      <td>23.0</td>\n",
              "    </tr>\n",
              "    <tr>\n",
              "      <th>3</th>\n",
              "      <td>Волгоград</td>\n",
              "      <td>24.0</td>\n",
              "    </tr>\n",
              "    <tr>\n",
              "      <th>4</th>\n",
              "      <td>Ростов-на-Дону</td>\n",
              "      <td>25.0</td>\n",
              "    </tr>\n",
              "    <tr>\n",
              "      <th>5</th>\n",
              "      <td>Казань</td>\n",
              "      <td>25.0</td>\n",
              "    </tr>\n",
              "    <tr>\n",
              "      <th>6</th>\n",
              "      <td>Пермь</td>\n",
              "      <td>25.0</td>\n",
              "    </tr>\n",
              "    <tr>\n",
              "      <th>7</th>\n",
              "      <td>Самара</td>\n",
              "      <td>26.0</td>\n",
              "    </tr>\n",
              "    <tr>\n",
              "      <th>8</th>\n",
              "      <td>Уфа</td>\n",
              "      <td>26.0</td>\n",
              "    </tr>\n",
              "    <tr>\n",
              "      <th>9</th>\n",
              "      <td>Краснодар</td>\n",
              "      <td>30.0</td>\n",
              "    </tr>\n",
              "    <tr>\n",
              "      <th>10</th>\n",
              "      <td>Воронеж</td>\n",
              "      <td>32.0</td>\n",
              "    </tr>\n",
              "    <tr>\n",
              "      <th>11</th>\n",
              "      <td>Новосибирск</td>\n",
              "      <td>35.0</td>\n",
              "    </tr>\n",
              "    <tr>\n",
              "      <th>12</th>\n",
              "      <td>Нижний Новгород</td>\n",
              "      <td>36.0</td>\n",
              "    </tr>\n",
              "    <tr>\n",
              "      <th>13</th>\n",
              "      <td>Екатеринбург</td>\n",
              "      <td>39.0</td>\n",
              "    </tr>\n",
              "    <tr>\n",
              "      <th>14</th>\n",
              "      <td>Санкт-Петербург</td>\n",
              "      <td>42.0</td>\n",
              "    </tr>\n",
              "    <tr>\n",
              "      <th>15</th>\n",
              "      <td>Москва</td>\n",
              "      <td>54.0</td>\n",
              "    </tr>\n",
              "    <tr>\n",
              "      <th>16</th>\n",
              "      <td>total</td>\n",
              "      <td>485.0</td>\n",
              "    </tr>\n",
              "  </tbody>\n",
              "</table>\n",
              "</div>"
            ],
            "text/plain": [
              "               name    cnt\n",
              "0              Омск   21.0\n",
              "1         Челябинск   22.0\n",
              "2        Красноярск   23.0\n",
              "3         Волгоград   24.0\n",
              "4    Ростов-на-Дону   25.0\n",
              "5            Казань   25.0\n",
              "6             Пермь   25.0\n",
              "7            Самара   26.0\n",
              "8               Уфа   26.0\n",
              "9         Краснодар   30.0\n",
              "10          Воронеж   32.0\n",
              "11      Новосибирск   35.0\n",
              "12  Нижний Новгород   36.0\n",
              "13     Екатеринбург   39.0\n",
              "14  Санкт-Петербург   42.0\n",
              "15           Москва   54.0\n",
              "16            total  485.0"
            ]
          },
          "execution_count": 199,
          "metadata": {},
          "output_type": "execute_result"
        }
      ],
      "source": [
        "# результат запроса\n",
        "result_5_7 = pd.read_sql_query(query_5_7, connection)\n",
        "result_5_7\n",
        "\n",
        "#Всего в городах-миллионниках Яндекс разместил 485 вакансий, при этом на Москву пришлось 54 вакансии, а на Омск более чем в два раза меньше - всего 21 вакансия."
      ]
    },
    {
      "cell_type": "markdown",
      "id": "04966e40-3bc3-4dc8-9ba2-e80580ce3abc",
      "metadata": {
        "id": "04966e40-3bc3-4dc8-9ba2-e80580ce3abc"
      },
      "source": [
        "***"
      ]
    },
    {
      "cell_type": "markdown",
      "id": "79e248c3",
      "metadata": {},
      "source": [
        "# выводы по анализу работодателей\n",
        "В топ-5 по количеству размещенных вакансий попали такие работодатели как Яндекс, Ростелеком, Тинькофф, СБЕР, Газпром. \n",
        "При этом, занимая первое место, Яндекс разместил в 3,9 раз больше вакансий, чем второй по популярности Ростелеком. Только в городах-миллионниках \"Яндекс\" разместил 485 вакансий. При этом лидирующее количество вакансий, конечно же, в Москве.\n",
        "\n",
        "Говоря про количество вакансий в регионах в общем, можно отметить, что самый популярный город - Москва, затем Санкт-Петербург (в СПБ вакансий в 1,9 раз меньше, чем в Москве).\n",
        "В зависимости от масштаба компаниии, варьируется количество регионов, в котором работодатель ищет сотрудников (от 1 до 181 региона на одного работодателя).\n",
        "У 36% работодателей не указана сфера их деятельности.\n",
        "\n",
        "У 3553 (15% от общего количества) работодателей 'Разработка программного обеспечения' указана как сфера их деятельности."
      ]
    },
    {
      "cell_type": "markdown",
      "id": "b1ef156a-efcb-49ce-bb23-90763e7f35b2",
      "metadata": {
        "id": "b1ef156a-efcb-49ce-bb23-90763e7f35b2",
        "tags": []
      },
      "source": [
        "# Юнит 6. Предметный анализ"
      ]
    },
    {
      "cell_type": "markdown",
      "id": "b9cd50a0-992d-4988-8463-2b2b1c4629b4",
      "metadata": {
        "id": "b9cd50a0-992d-4988-8463-2b2b1c4629b4"
      },
      "source": [
        "1. Сколько вакансий имеет отношение к данным?\n",
        "\n",
        "Считаем, что вакансия имеет отношение к данным, если в её названии содержатся слова 'data' или 'данн'.\n",
        "\n",
        "*Подсказка: Обратите внимание, что названия вакансий могут быть написаны в любом регистре.* \n"
      ]
    },
    {
      "cell_type": "code",
      "execution_count": 29,
      "id": "54ab0e50-c0f1-47cc-a54b-bc5c8bc363f9",
      "metadata": {
        "id": "54ab0e50-c0f1-47cc-a54b-bc5c8bc363f9"
      },
      "outputs": [],
      "source": [
        "# текст запроса\n",
        "query_6_1 = f'''SELECT count(v.id)\n",
        "FROM vacancies v \n",
        "WHERE (v.name ILIKE '%data%') or (v.name ILIKE '%данн%')\n",
        "'''"
      ]
    },
    {
      "cell_type": "code",
      "execution_count": 30,
      "id": "9F1meAqsuUjd",
      "metadata": {
        "id": "9F1meAqsuUjd"
      },
      "outputs": [
        {
          "name": "stderr",
          "output_type": "stream",
          "text": [
            "/var/folders/14/w5z30cwx541gq2kzys9tvttc0000gn/T/ipykernel_803/4032184885.py:2: UserWarning: pandas only supports SQLAlchemy connectable (engine/connection) or database string URI or sqlite3 DBAPI2 connection. Other DBAPI2 objects are not tested. Please consider using SQLAlchemy.\n",
            "  result_6_1 = pd.read_sql_query(query_6_1, connection)\n"
          ]
        },
        {
          "data": {
            "text/html": [
              "<div>\n",
              "<style scoped>\n",
              "    .dataframe tbody tr th:only-of-type {\n",
              "        vertical-align: middle;\n",
              "    }\n",
              "\n",
              "    .dataframe tbody tr th {\n",
              "        vertical-align: top;\n",
              "    }\n",
              "\n",
              "    .dataframe thead th {\n",
              "        text-align: right;\n",
              "    }\n",
              "</style>\n",
              "<table border=\"1\" class=\"dataframe\">\n",
              "  <thead>\n",
              "    <tr style=\"text-align: right;\">\n",
              "      <th></th>\n",
              "      <th>count</th>\n",
              "    </tr>\n",
              "  </thead>\n",
              "  <tbody>\n",
              "    <tr>\n",
              "      <th>0</th>\n",
              "      <td>1771</td>\n",
              "    </tr>\n",
              "  </tbody>\n",
              "</table>\n",
              "</div>"
            ],
            "text/plain": [
              "   count\n",
              "0   1771"
            ]
          },
          "execution_count": 30,
          "metadata": {},
          "output_type": "execute_result"
        }
      ],
      "source": [
        "# результат запроса\n",
        "result_6_1 = pd.read_sql_query(query_6_1, connection)\n",
        "result_6_1\n",
        "\n",
        "# 1771 вакансия имеет отношение к данным.\n"
      ]
    },
    {
      "cell_type": "markdown",
      "id": "4dea20cb-a36b-474a-a0b9-e08e8e3857a5",
      "metadata": {
        "id": "4dea20cb-a36b-474a-a0b9-e08e8e3857a5"
      },
      "source": [
        "2. Сколько есть подходящих вакансий для начинающего дата-сайентиста? \n",
        "Будем считать вакансиями для дата-сайентистов такие, в названии которых есть хотя бы одно из следующих сочетаний:\n",
        "* 'data scientist'\n",
        "* 'data science'\n",
        "* 'исследователь данных'\n",
        "* 'ML' (здесь не нужно брать вакансии по HTML)\n",
        "* 'machine learning'\n",
        "* 'машинн%обучен%'\n",
        "\n",
        "** В следующих заданиях мы продолжим работать с вакансиями по этому условию.*\n",
        "\n",
        "Считаем вакансиями для специалистов уровня Junior следующие:\n",
        "* в названии есть слово 'junior' *или*\n",
        "* требуемый опыт — Нет опыта *или*\n",
        "* тип трудоустройства — Стажировка.\n",
        " "
      ]
    },
    {
      "cell_type": "code",
      "execution_count": 60,
      "id": "9c61b3c0-bb66-46c9-ae1e-81d3f5752b4a",
      "metadata": {
        "id": "9c61b3c0-bb66-46c9-ae1e-81d3f5752b4a"
      },
      "outputs": [],
      "source": [
        "# текст запроса\n",
        "query_6_2 = f'''SELECT count(*)\n",
        "FROM vacancies v\n",
        "WHERE ((v.name ILIKE '%data scientist%') OR \n",
        "(v.name ILIKE '%data science%') OR \n",
        "(v.name ILIKE '%исследователь данных%') OR \n",
        "(v.name ILIKE '%machine learning%') OR \n",
        "(v.name ILIKE '%машинн%обучен%') OR \n",
        "((v.name LIKE '%ML%') AND (v.name NOT LIKE '%HTML%'))) AND\n",
        "((v.name ILIKE '%junior%') OR\n",
        "(v.experience ILIKE 'Нет опыта') OR \n",
        "(v.employment ILIKE 'Стажировка'))\n",
        "'''\n"
      ]
    },
    {
      "cell_type": "code",
      "execution_count": 61,
      "id": "ZNM-LLYuu1dj",
      "metadata": {
        "id": "ZNM-LLYuu1dj"
      },
      "outputs": [
        {
          "name": "stderr",
          "output_type": "stream",
          "text": [
            "/var/folders/14/w5z30cwx541gq2kzys9tvttc0000gn/T/ipykernel_803/2865164135.py:2: UserWarning: pandas only supports SQLAlchemy connectable (engine/connection) or database string URI or sqlite3 DBAPI2 connection. Other DBAPI2 objects are not tested. Please consider using SQLAlchemy.\n",
            "  result_6_2 = pd.read_sql_query(query_6_2, connection)\n"
          ]
        },
        {
          "data": {
            "text/html": [
              "<div>\n",
              "<style scoped>\n",
              "    .dataframe tbody tr th:only-of-type {\n",
              "        vertical-align: middle;\n",
              "    }\n",
              "\n",
              "    .dataframe tbody tr th {\n",
              "        vertical-align: top;\n",
              "    }\n",
              "\n",
              "    .dataframe thead th {\n",
              "        text-align: right;\n",
              "    }\n",
              "</style>\n",
              "<table border=\"1\" class=\"dataframe\">\n",
              "  <thead>\n",
              "    <tr style=\"text-align: right;\">\n",
              "      <th></th>\n",
              "      <th>count</th>\n",
              "    </tr>\n",
              "  </thead>\n",
              "  <tbody>\n",
              "    <tr>\n",
              "      <th>0</th>\n",
              "      <td>51</td>\n",
              "    </tr>\n",
              "  </tbody>\n",
              "</table>\n",
              "</div>"
            ],
            "text/plain": [
              "   count\n",
              "0     51"
            ]
          },
          "execution_count": 61,
          "metadata": {},
          "output_type": "execute_result"
        }
      ],
      "source": [
        "# результат запроса\n",
        "result_6_2 = pd.read_sql_query(query_6_2, connection)\n",
        "result_6_2\n",
        "\n",
        "# 51 вакансия из нашей базы подходит для начинающего дата-сайентиста."
      ]
    },
    {
      "cell_type": "markdown",
      "id": "eedceb80-c5ca-480e-b27a-278dfb8b4438",
      "metadata": {
        "id": "eedceb80-c5ca-480e-b27a-278dfb8b4438"
      },
      "source": [
        "3. Сколько есть вакансий для DS, в которых в качестве ключевого навыка указан SQL или postgres?\n",
        "\n",
        "** Критерии для отнесения вакансии к DS указаны в предыдущем задании.*"
      ]
    },
    {
      "cell_type": "code",
      "execution_count": 66,
      "id": "69621713-0cc5-4f1b-a1d7-bb144fa6148c",
      "metadata": {
        "id": "69621713-0cc5-4f1b-a1d7-bb144fa6148c"
      },
      "outputs": [
        {
          "name": "stderr",
          "output_type": "stream",
          "text": [
            "/var/folders/14/w5z30cwx541gq2kzys9tvttc0000gn/T/ipykernel_803/3555502865.py:13: UserWarning: pandas only supports SQLAlchemy connectable (engine/connection) or database string URI or sqlite3 DBAPI2 connection. Other DBAPI2 objects are not tested. Please consider using SQLAlchemy.\n",
            "  result_6_3 = pd.read_sql_query(query_6_3, connection)\n"
          ]
        },
        {
          "data": {
            "text/html": [
              "<div>\n",
              "<style scoped>\n",
              "    .dataframe tbody tr th:only-of-type {\n",
              "        vertical-align: middle;\n",
              "    }\n",
              "\n",
              "    .dataframe tbody tr th {\n",
              "        vertical-align: top;\n",
              "    }\n",
              "\n",
              "    .dataframe thead th {\n",
              "        text-align: right;\n",
              "    }\n",
              "</style>\n",
              "<table border=\"1\" class=\"dataframe\">\n",
              "  <thead>\n",
              "    <tr style=\"text-align: right;\">\n",
              "      <th></th>\n",
              "      <th>count</th>\n",
              "    </tr>\n",
              "  </thead>\n",
              "  <tbody>\n",
              "    <tr>\n",
              "      <th>0</th>\n",
              "      <td>201</td>\n",
              "    </tr>\n",
              "  </tbody>\n",
              "</table>\n",
              "</div>"
            ],
            "text/plain": [
              "   count\n",
              "0    201"
            ]
          },
          "execution_count": 66,
          "metadata": {},
          "output_type": "execute_result"
        }
      ],
      "source": [
        "# текст запроса\n",
        "query_6_3 = f'''SELECT count(*)\n",
        "FROM vacancies v\n",
        "WHERE ((v.name ILIKE '%data scientist%') OR \n",
        "(v.name ILIKE '%data science%') OR \n",
        "(v.name ILIKE '%исследователь данных%') OR \n",
        "(v.name ILIKE '%machine learning%') OR \n",
        "(v.name ILIKE '%машинн%обучен%') OR \n",
        "((v.name LIKE '%ML%') AND (v.name NOT LIKE '%HTML%'))) AND\n",
        "((v.key_skills ILIKE '%SQL%') or (v.key_skills ILIKE '%postgres%'))\n",
        "'''\n"
      ]
    },
    {
      "cell_type": "code",
      "execution_count": null,
      "id": "alA8WEAAvGdf",
      "metadata": {
        "id": "alA8WEAAvGdf"
      },
      "outputs": [],
      "source": [
        "# результат запроса\n",
        "result_6_3 = pd.read_sql_query(query_6_3, connection)\n",
        "result_6_3\n",
        "\n",
        "# В базе с резюме есть 201 вакансия для DS, в которых в качестве ключевого навыка указан SQL или postgres."
      ]
    },
    {
      "cell_type": "markdown",
      "id": "1be1e9c6-37cf-4a5f-bfeb-04cab799dc80",
      "metadata": {
        "id": "1be1e9c6-37cf-4a5f-bfeb-04cab799dc80"
      },
      "source": [
        "4. Проверьте, насколько популярен Python в требованиях работодателей к DS.Для этого вычислите количество вакансий, в которых в качестве ключевого навыка указан Python.\n",
        "\n",
        "** Это можно сделать помощью запроса, аналогичного предыдущему.*"
      ]
    },
    {
      "cell_type": "code",
      "execution_count": 67,
      "id": "0036a355-9ccf-4564-8b01-73d8194297e7",
      "metadata": {
        "id": "0036a355-9ccf-4564-8b01-73d8194297e7"
      },
      "outputs": [],
      "source": [
        "# текст запроса\n",
        "query_6_4 = f'''SELECT count(*)\n",
        "FROM vacancies v\n",
        "WHERE ((v.name ILIKE '%data scientist%') OR \n",
        "(v.name ILIKE '%data science%') OR \n",
        "(v.name ILIKE '%исследователь данных%') OR \n",
        "(v.name ILIKE '%machine learning%') OR \n",
        "(v.name ILIKE '%машинн%обучен%') OR \n",
        "((v.name LIKE '%ML%') AND (v.name NOT LIKE '%HTML%'))) AND\n",
        "(v.key_skills ILIKE '%python%')\n",
        "'''\n"
      ]
    },
    {
      "cell_type": "code",
      "execution_count": 69,
      "id": "1i-5WyucvQ6v",
      "metadata": {
        "id": "1i-5WyucvQ6v"
      },
      "outputs": [
        {
          "name": "stderr",
          "output_type": "stream",
          "text": [
            "/var/folders/14/w5z30cwx541gq2kzys9tvttc0000gn/T/ipykernel_803/1790783851.py:2: UserWarning: pandas only supports SQLAlchemy connectable (engine/connection) or database string URI or sqlite3 DBAPI2 connection. Other DBAPI2 objects are not tested. Please consider using SQLAlchemy.\n",
            "  result_6_4 = pd.read_sql_query(query_6_4, connection)\n"
          ]
        },
        {
          "data": {
            "text/html": [
              "<div>\n",
              "<style scoped>\n",
              "    .dataframe tbody tr th:only-of-type {\n",
              "        vertical-align: middle;\n",
              "    }\n",
              "\n",
              "    .dataframe tbody tr th {\n",
              "        vertical-align: top;\n",
              "    }\n",
              "\n",
              "    .dataframe thead th {\n",
              "        text-align: right;\n",
              "    }\n",
              "</style>\n",
              "<table border=\"1\" class=\"dataframe\">\n",
              "  <thead>\n",
              "    <tr style=\"text-align: right;\">\n",
              "      <th></th>\n",
              "      <th>count</th>\n",
              "    </tr>\n",
              "  </thead>\n",
              "  <tbody>\n",
              "    <tr>\n",
              "      <th>0</th>\n",
              "      <td>351</td>\n",
              "    </tr>\n",
              "  </tbody>\n",
              "</table>\n",
              "</div>"
            ],
            "text/plain": [
              "   count\n",
              "0    351"
            ]
          },
          "execution_count": 69,
          "metadata": {},
          "output_type": "execute_result"
        }
      ],
      "source": [
        "# результат запроса\n",
        "result_6_4 = pd.read_sql_query(query_6_4, connection)\n",
        "result_6_4\n",
        "\n",
        "# В 351 вакансии Python указан в качестве ключевого навыка."
      ]
    },
    {
      "cell_type": "markdown",
      "id": "ec3c8db7-fa21-4a41-a994-1af63742a642",
      "metadata": {
        "id": "ec3c8db7-fa21-4a41-a994-1af63742a642"
      },
      "source": [
        "5. Сколько ключевых навыков в среднем указывают в вакансиях для DS?\n",
        "Ответ округлите до двух знаков после точки-разделителя."
      ]
    },
    {
      "cell_type": "code",
      "execution_count": 105,
      "id": "328e7782",
      "metadata": {},
      "outputs": [],
      "source": [
        "# текст запроса\n",
        "query_6_5 = f'''SELECT ROUND(AVG((length(v.key_skills) - length(replace(v.key_skills, CHR(9), ''))) + 1), 2)\n",
        "\n",
        "\n",
        "FROM vacancies v\n",
        "WHERE ((v.name ILIKE '%data scientist%') OR \n",
        "(v.name ILIKE '%data science%') OR \n",
        "(v.name ILIKE '%исследователь данных%') OR \n",
        "(v.name ILIKE '%machine learning%') OR \n",
        "(v.name ILIKE '%машинн%обучен%') OR \n",
        "((v.name LIKE '%ML%') AND (v.name NOT LIKE '%HTML%'))) AND\n",
        "v.key_skills IS NOT NULL\n",
        "'''"
      ]
    },
    {
      "cell_type": "code",
      "execution_count": 106,
      "id": "a3V24Tvmviqk",
      "metadata": {
        "id": "a3V24Tvmviqk"
      },
      "outputs": [
        {
          "name": "stderr",
          "output_type": "stream",
          "text": [
            "/var/folders/14/w5z30cwx541gq2kzys9tvttc0000gn/T/ipykernel_803/878557823.py:2: UserWarning: pandas only supports SQLAlchemy connectable (engine/connection) or database string URI or sqlite3 DBAPI2 connection. Other DBAPI2 objects are not tested. Please consider using SQLAlchemy.\n",
            "  result_6_5 = pd.read_sql_query(query_6_5, connection)\n"
          ]
        },
        {
          "data": {
            "text/html": [
              "<div>\n",
              "<style scoped>\n",
              "    .dataframe tbody tr th:only-of-type {\n",
              "        vertical-align: middle;\n",
              "    }\n",
              "\n",
              "    .dataframe tbody tr th {\n",
              "        vertical-align: top;\n",
              "    }\n",
              "\n",
              "    .dataframe thead th {\n",
              "        text-align: right;\n",
              "    }\n",
              "</style>\n",
              "<table border=\"1\" class=\"dataframe\">\n",
              "  <thead>\n",
              "    <tr style=\"text-align: right;\">\n",
              "      <th></th>\n",
              "      <th>round</th>\n",
              "    </tr>\n",
              "  </thead>\n",
              "  <tbody>\n",
              "    <tr>\n",
              "      <th>0</th>\n",
              "      <td>6.41</td>\n",
              "    </tr>\n",
              "  </tbody>\n",
              "</table>\n",
              "</div>"
            ],
            "text/plain": [
              "   round\n",
              "0   6.41"
            ]
          },
          "execution_count": 106,
          "metadata": {},
          "output_type": "execute_result"
        }
      ],
      "source": [
        "# результат запроса\n",
        "result_6_5 = pd.read_sql_query(query_6_5, connection)\n",
        "result_6_5\n",
        "\n",
        "# В среднем указывают в вакансиях для DS указывают 6 ключевых навыков."
      ]
    },
    {
      "cell_type": "markdown",
      "id": "1041c17a-ca8f-4543-a0ca-32778914fb00",
      "metadata": {
        "id": "1041c17a-ca8f-4543-a0ca-32778914fb00"
      },
      "source": [
        "6. Напишите запрос, позволяющий вычислить, какую зарплату для DS в **среднем** указывают для каждого типа требуемого опыта (уникальное значение из поля *experience*). \n",
        "\n",
        "При решении задачи примите во внимание следующее:\n",
        "1. Рассматриваем только вакансии, у которых заполнено хотя бы одно из двух полей с зарплатой.\n",
        "2. Если заполнены оба поля с зарплатой, то считаем зарплату по каждой вакансии как сумму двух полей, делённую на 2. Если заполнено только одно из полей, то его и считаем зарплатой по вакансии.\n",
        "3. Если в расчётах участвует null, в результате он тоже даст null (посмотрите, что возвращает запрос select 1 + null). Чтобы избежать этой ситуацию, мы воспользуемся функцией [coalesce](https://postgrespro.ru/docs/postgresql/9.5/functions-conditional#functions-coalesce-nvl-ifnull), которая заменит null на значение, которое мы передадим. Например, посмотрите, что возвращает запрос `select 1 + coalesce(null, 0)`\n",
        "\n",
        "Выясните, на какую зарплату в среднем может рассчитывать дата-сайентист с опытом работы от 3 до 6 лет. Результат округлите до целого числа. "
      ]
    },
    {
      "cell_type": "code",
      "execution_count": 168,
      "id": "b702b82a",
      "metadata": {},
      "outputs": [],
      "source": [
        "# текст запроса\n",
        "query_6_6 = f'''SELECT v.experience, ROUND(AVG(coalesce(((v.salary_from+v.salary_to)/2), v.salary_from, v.salary_to))) as result\n",
        "FROM vacancies v\n",
        "WHERE ((v.name ILIKE '%data scientist%') OR \n",
        "(v.name ILIKE '%data science%') OR \n",
        "(v.name ILIKE '%исследователь данных%') OR \n",
        "(v.name ILIKE '%machine learning%') OR \n",
        "(v.name ILIKE '%машинн%обучен%') OR \n",
        "((v.name LIKE '%ML%') AND (v.name NOT LIKE '%HTML%'))) AND\n",
        "((v.salary_from is not null) or (v.salary_to is not null))\n",
        "GROUP BY v.experience\n",
        "'''"
      ]
    },
    {
      "cell_type": "code",
      "execution_count": 169,
      "id": "aRIJ0mZEwU1_",
      "metadata": {
        "id": "aRIJ0mZEwU1_"
      },
      "outputs": [
        {
          "name": "stderr",
          "output_type": "stream",
          "text": [
            "/var/folders/14/w5z30cwx541gq2kzys9tvttc0000gn/T/ipykernel_803/4066043572.py:2: UserWarning: pandas only supports SQLAlchemy connectable (engine/connection) or database string URI or sqlite3 DBAPI2 connection. Other DBAPI2 objects are not tested. Please consider using SQLAlchemy.\n",
            "  result_6_6 = pd.read_sql_query(query_6_6, connection)\n"
          ]
        },
        {
          "data": {
            "text/html": [
              "<div>\n",
              "<style scoped>\n",
              "    .dataframe tbody tr th:only-of-type {\n",
              "        vertical-align: middle;\n",
              "    }\n",
              "\n",
              "    .dataframe tbody tr th {\n",
              "        vertical-align: top;\n",
              "    }\n",
              "\n",
              "    .dataframe thead th {\n",
              "        text-align: right;\n",
              "    }\n",
              "</style>\n",
              "<table border=\"1\" class=\"dataframe\">\n",
              "  <thead>\n",
              "    <tr style=\"text-align: right;\">\n",
              "      <th></th>\n",
              "      <th>experience</th>\n",
              "      <th>result</th>\n",
              "    </tr>\n",
              "  </thead>\n",
              "  <tbody>\n",
              "    <tr>\n",
              "      <th>0</th>\n",
              "      <td>Нет опыта</td>\n",
              "      <td>74643.0</td>\n",
              "    </tr>\n",
              "    <tr>\n",
              "      <th>1</th>\n",
              "      <td>От 1 года до 3 лет</td>\n",
              "      <td>139675.0</td>\n",
              "    </tr>\n",
              "    <tr>\n",
              "      <th>2</th>\n",
              "      <td>От 3 до 6 лет</td>\n",
              "      <td>243115.0</td>\n",
              "    </tr>\n",
              "  </tbody>\n",
              "</table>\n",
              "</div>"
            ],
            "text/plain": [
              "           experience    result\n",
              "0           Нет опыта   74643.0\n",
              "1  От 1 года до 3 лет  139675.0\n",
              "2       От 3 до 6 лет  243115.0"
            ]
          },
          "execution_count": 169,
          "metadata": {},
          "output_type": "execute_result"
        }
      ],
      "source": [
        "# результат запроса\n",
        "result_6_6 = pd.read_sql_query(query_6_6, connection)\n",
        "result_6_6\n",
        "\n",
        "# 243 115 руб. - средний уровень заработной платы, на который может рассчитывать дата-сайентист с опытом работы от 3 до 6 лет."
      ]
    },
    {
      "cell_type": "markdown",
      "id": "146a0433",
      "metadata": {},
      "source": [
        "# выводы по предметному анализу\n",
        "Говоря о вакансиях, имеющих отношение к данным, можно отметить, что в этой области ищут 1771 специалиста. \n",
        "Из них 51 вакансия подходит для начинающего дата-сайентиста.\n",
        "В 201 вакансии для DS, в которых в качестве ключевого навыка указан SQL или postgres.\n",
        "В 351 вакансии Python указан в качестве ключевого навыка.\n",
        "\n",
        "В среднем указывают в вакансиях для DS указывают 6 ключевых навыков.\n",
        "\n",
        "А уровень заработной платы DS специалиста варьируется в зависимости от опыта его работы:\n",
        "- специалист без опыта в среднем может рассчитывать на зп около 75 тысяч рублей.\n",
        "- DS с опытом работы от 1 до 3 лет может получать в среднем около 140 тысяч рублей.\n",
        "- дата-сайентист с опытом работы от 3 до 6 лет может претендовать на заработную плату в среднем в 243 тысячи рублей."
      ]
    },
    {
      "cell_type": "markdown",
      "id": "500ae3fe",
      "metadata": {},
      "source": [
        "***"
      ]
    },
    {
      "cell_type": "markdown",
      "id": "b8cb52e1",
      "metadata": {},
      "source": [
        "# Дополнительные исследования"
      ]
    },
    {
      "cell_type": "code",
      "execution_count": 173,
      "id": "ebd5562a",
      "metadata": {},
      "outputs": [
        {
          "name": "stderr",
          "output_type": "stream",
          "text": [
            "/var/folders/14/w5z30cwx541gq2kzys9tvttc0000gn/T/ipykernel_8714/712737893.py:20: UserWarning: pandas only supports SQLAlchemy connectable (engine/connection) or database string URI or sqlite3 DBAPI2 connection. Other DBAPI2 objects are not tested. Please consider using SQLAlchemy.\n",
            "  result01 = pd.read_sql_query(query01, connection)\n"
          ]
        },
        {
          "data": {
            "text/html": [
              "<div>\n",
              "<style scoped>\n",
              "    .dataframe tbody tr th:only-of-type {\n",
              "        vertical-align: middle;\n",
              "    }\n",
              "\n",
              "    .dataframe tbody tr th {\n",
              "        vertical-align: top;\n",
              "    }\n",
              "\n",
              "    .dataframe thead th {\n",
              "        text-align: right;\n",
              "    }\n",
              "</style>\n",
              "<table border=\"1\" class=\"dataframe\">\n",
              "  <thead>\n",
              "    <tr style=\"text-align: right;\">\n",
              "      <th></th>\n",
              "      <th>skill</th>\n",
              "      <th>count</th>\n",
              "    </tr>\n",
              "  </thead>\n",
              "  <tbody>\n",
              "    <tr>\n",
              "      <th>0</th>\n",
              "      <td>Python</td>\n",
              "      <td>348</td>\n",
              "    </tr>\n",
              "    <tr>\n",
              "      <th>1</th>\n",
              "      <td>SQL</td>\n",
              "      <td>191</td>\n",
              "    </tr>\n",
              "    <tr>\n",
              "      <th>2</th>\n",
              "      <td>Machine Learning</td>\n",
              "      <td>114</td>\n",
              "    </tr>\n",
              "    <tr>\n",
              "      <th>3</th>\n",
              "      <td>Git</td>\n",
              "      <td>66</td>\n",
              "    </tr>\n",
              "    <tr>\n",
              "      <th>4</th>\n",
              "      <td>Математическая статистика</td>\n",
              "      <td>62</td>\n",
              "    </tr>\n",
              "    <tr>\n",
              "      <th>5</th>\n",
              "      <td>Data Analysis</td>\n",
              "      <td>54</td>\n",
              "    </tr>\n",
              "    <tr>\n",
              "      <th>6</th>\n",
              "      <td>Pandas</td>\n",
              "      <td>52</td>\n",
              "    </tr>\n",
              "    <tr>\n",
              "      <th>7</th>\n",
              "      <td>Data Science</td>\n",
              "      <td>52</td>\n",
              "    </tr>\n",
              "    <tr>\n",
              "      <th>8</th>\n",
              "      <td>ML</td>\n",
              "      <td>49</td>\n",
              "    </tr>\n",
              "    <tr>\n",
              "      <th>9</th>\n",
              "      <td>Английский язык</td>\n",
              "      <td>48</td>\n",
              "    </tr>\n",
              "    <tr>\n",
              "      <th>10</th>\n",
              "      <td>Linux</td>\n",
              "      <td>47</td>\n",
              "    </tr>\n",
              "    <tr>\n",
              "      <th>11</th>\n",
              "      <td>PyTorch</td>\n",
              "      <td>46</td>\n",
              "    </tr>\n",
              "    <tr>\n",
              "      <th>12</th>\n",
              "      <td>Анализ данных</td>\n",
              "      <td>46</td>\n",
              "    </tr>\n",
              "    <tr>\n",
              "      <th>13</th>\n",
              "      <td>Big Data</td>\n",
              "      <td>42</td>\n",
              "    </tr>\n",
              "    <tr>\n",
              "      <th>14</th>\n",
              "      <td>Математическое моделирование</td>\n",
              "      <td>41</td>\n",
              "    </tr>\n",
              "    <tr>\n",
              "      <th>15</th>\n",
              "      <td>Статистический анализ</td>\n",
              "      <td>40</td>\n",
              "    </tr>\n",
              "    <tr>\n",
              "      <th>16</th>\n",
              "      <td>NLP</td>\n",
              "      <td>40</td>\n",
              "    </tr>\n",
              "    <tr>\n",
              "      <th>17</th>\n",
              "      <td>C++</td>\n",
              "      <td>39</td>\n",
              "    </tr>\n",
              "    <tr>\n",
              "      <th>18</th>\n",
              "      <td>Spark</td>\n",
              "      <td>38</td>\n",
              "    </tr>\n",
              "    <tr>\n",
              "      <th>19</th>\n",
              "      <td>Tensorflow</td>\n",
              "      <td>35</td>\n",
              "    </tr>\n",
              "  </tbody>\n",
              "</table>\n",
              "</div>"
            ],
            "text/plain": [
              "                           skill  count\n",
              "0                         Python    348\n",
              "1                            SQL    191\n",
              "2               Machine Learning    114\n",
              "3                            Git     66\n",
              "4      Математическая статистика     62\n",
              "5                  Data Analysis     54\n",
              "6                         Pandas     52\n",
              "7                   Data Science     52\n",
              "8                             ML     49\n",
              "9                Английский язык     48\n",
              "10                         Linux     47\n",
              "11                       PyTorch     46\n",
              "12                 Анализ данных     46\n",
              "13                      Big Data     42\n",
              "14  Математическое моделирование     41\n",
              "15         Статистический анализ     40\n",
              "16                           NLP     40\n",
              "17                           C++     39\n",
              "18                         Spark     38\n",
              "19                    Tensorflow     35"
            ]
          },
          "execution_count": 173,
          "metadata": {},
          "output_type": "execute_result"
        }
      ],
      "source": [
        "# Выведем топ основных ключевых навыков, нужных DS специалисту.\n",
        "\n",
        "query01 = f'''with sep_skills as (SELECT unnest(string_to_array(v.key_skills, '\\t')) AS skill\n",
        "FROM vacancies v\n",
        "WHERE ((v.name ILIKE '%data scientist%') OR \n",
        "(v.name ILIKE '%data science%') OR \n",
        "(v.name ILIKE '%исследователь данных%') OR \n",
        "(v.name ILIKE '%machine learning%') OR \n",
        "(v.name ILIKE '%машинн%обучен%') OR \n",
        "((v.name LIKE '%ML%') AND (v.name NOT LIKE '%HTML%'))) AND\n",
        "v.key_skills IS NOT NULL)\n",
        "\n",
        "SELECT skill, count(skill)\n",
        "FROM sep_skills\n",
        "GROUP BY skill\n",
        "ORDER BY count desc\n",
        "LIMIT 20\n",
        "'''\n",
        "\n",
        "result01 = pd.read_sql_query(query01, connection)\n",
        "result01\n",
        "\n",
        "# ТОП (по частоте их указания в резюме) основных навыков, необходимых DS специалисту по мнению работодателей, это:\n",
        "# Python (указан в 72,5% вакансий для DS спецйиалиста),\n",
        "# SQL (указан в 40%),\n",
        "# Machine Learning (24%),\n",
        "# Git (14%)"
      ]
    },
    {
      "cell_type": "code",
      "execution_count": 151,
      "id": "2f51fe42",
      "metadata": {},
      "outputs": [
        {
          "name": "stderr",
          "output_type": "stream",
          "text": [
            "/var/folders/14/w5z30cwx541gq2kzys9tvttc0000gn/T/ipykernel_8714/4263707268.py:18: UserWarning: pandas only supports SQLAlchemy connectable (engine/connection) or database string URI or sqlite3 DBAPI2 connection. Other DBAPI2 objects are not tested. Please consider using SQLAlchemy.\n",
            "  result02 = pd.read_sql_query(query02, connection)\n"
          ]
        },
        {
          "data": {
            "text/html": [
              "<div>\n",
              "<style scoped>\n",
              "    .dataframe tbody tr th:only-of-type {\n",
              "        vertical-align: middle;\n",
              "    }\n",
              "\n",
              "    .dataframe tbody tr th {\n",
              "        vertical-align: top;\n",
              "    }\n",
              "\n",
              "    .dataframe thead th {\n",
              "        text-align: right;\n",
              "    }\n",
              "</style>\n",
              "<table border=\"1\" class=\"dataframe\">\n",
              "  <thead>\n",
              "    <tr style=\"text-align: right;\">\n",
              "      <th></th>\n",
              "      <th>skills_amount</th>\n",
              "      <th>salary</th>\n",
              "    </tr>\n",
              "  </thead>\n",
              "  <tbody>\n",
              "    <tr>\n",
              "      <th>0</th>\n",
              "      <td>4</td>\n",
              "      <td>333333.0</td>\n",
              "    </tr>\n",
              "    <tr>\n",
              "      <th>1</th>\n",
              "      <td>14</td>\n",
              "      <td>300000.0</td>\n",
              "    </tr>\n",
              "    <tr>\n",
              "      <th>2</th>\n",
              "      <td>2</td>\n",
              "      <td>225000.0</td>\n",
              "    </tr>\n",
              "    <tr>\n",
              "      <th>3</th>\n",
              "      <td>3</td>\n",
              "      <td>206349.0</td>\n",
              "    </tr>\n",
              "    <tr>\n",
              "      <th>4</th>\n",
              "      <td>16</td>\n",
              "      <td>205000.0</td>\n",
              "    </tr>\n",
              "    <tr>\n",
              "      <th>5</th>\n",
              "      <td>5</td>\n",
              "      <td>191078.0</td>\n",
              "    </tr>\n",
              "    <tr>\n",
              "      <th>6</th>\n",
              "      <td>12</td>\n",
              "      <td>175346.0</td>\n",
              "    </tr>\n",
              "    <tr>\n",
              "      <th>7</th>\n",
              "      <td>6</td>\n",
              "      <td>170471.0</td>\n",
              "    </tr>\n",
              "    <tr>\n",
              "      <th>8</th>\n",
              "      <td>8</td>\n",
              "      <td>161786.0</td>\n",
              "    </tr>\n",
              "    <tr>\n",
              "      <th>9</th>\n",
              "      <td>7</td>\n",
              "      <td>143500.0</td>\n",
              "    </tr>\n",
              "    <tr>\n",
              "      <th>10</th>\n",
              "      <td>10</td>\n",
              "      <td>112500.0</td>\n",
              "    </tr>\n",
              "    <tr>\n",
              "      <th>11</th>\n",
              "      <td>9</td>\n",
              "      <td>108563.0</td>\n",
              "    </tr>\n",
              "    <tr>\n",
              "      <th>12</th>\n",
              "      <td>11</td>\n",
              "      <td>82262.0</td>\n",
              "    </tr>\n",
              "    <tr>\n",
              "      <th>13</th>\n",
              "      <td>20</td>\n",
              "      <td>NaN</td>\n",
              "    </tr>\n",
              "    <tr>\n",
              "      <th>14</th>\n",
              "      <td>13</td>\n",
              "      <td>NaN</td>\n",
              "    </tr>\n",
              "    <tr>\n",
              "      <th>15</th>\n",
              "      <td>15</td>\n",
              "      <td>NaN</td>\n",
              "    </tr>\n",
              "    <tr>\n",
              "      <th>16</th>\n",
              "      <td>17</td>\n",
              "      <td>NaN</td>\n",
              "    </tr>\n",
              "    <tr>\n",
              "      <th>17</th>\n",
              "      <td>19</td>\n",
              "      <td>NaN</td>\n",
              "    </tr>\n",
              "    <tr>\n",
              "      <th>18</th>\n",
              "      <td>1</td>\n",
              "      <td>NaN</td>\n",
              "    </tr>\n",
              "  </tbody>\n",
              "</table>\n",
              "</div>"
            ],
            "text/plain": [
              "    skills_amount    salary\n",
              "0               4  333333.0\n",
              "1              14  300000.0\n",
              "2               2  225000.0\n",
              "3               3  206349.0\n",
              "4              16  205000.0\n",
              "5               5  191078.0\n",
              "6              12  175346.0\n",
              "7               6  170471.0\n",
              "8               8  161786.0\n",
              "9               7  143500.0\n",
              "10             10  112500.0\n",
              "11              9  108563.0\n",
              "12             11   82262.0\n",
              "13             20       NaN\n",
              "14             13       NaN\n",
              "15             15       NaN\n",
              "16             17       NaN\n",
              "17             19       NaN\n",
              "18              1       NaN"
            ]
          },
          "execution_count": 151,
          "metadata": {},
          "output_type": "execute_result"
        }
      ],
      "source": [
        "# Зависимости количества необходимых навыков от уровня предлагаемой средней заработной платы.\n",
        "\n",
        "query02 = f'''SELECT (length(v.key_skills) - length(replace(v.key_skills, CHR(9), '')) + 1) as skills_amount, ROUND(AVG(coalesce(((v.salary_from+v.salary_to)/2), v.salary_from, v.salary_to))) as salary\n",
        "\n",
        "\n",
        "FROM vacancies v\n",
        "WHERE ((v.name ILIKE '%data scientist%') OR \n",
        "(v.name ILIKE '%data science%') OR \n",
        "(v.name ILIKE '%исследователь данных%') OR \n",
        "(v.name ILIKE '%machine learning%') OR \n",
        "(v.name ILIKE '%машинн%обучен%') OR \n",
        "((v.name LIKE '%ML%') AND (v.name NOT LIKE '%HTML%'))) AND\n",
        "v.key_skills IS NOT NULL\n",
        "GROUP BY skills_amount\n",
        "ORDER BY salary desc NULLS LAST\n",
        "'''\n",
        "\n",
        "result02 = pd.read_sql_query(query02, connection)\n",
        "result02\n",
        "\n",
        "# Нет прямой зависимости роста зп от количества указанных навыков"
      ]
    },
    {
      "cell_type": "code",
      "execution_count": 37,
      "id": "ae599675",
      "metadata": {},
      "outputs": [
        {
          "name": "stderr",
          "output_type": "stream",
          "text": [
            "/var/folders/14/w5z30cwx541gq2kzys9tvttc0000gn/T/ipykernel_8714/278499866.py:12: UserWarning: pandas only supports SQLAlchemy connectable (engine/connection) or database string URI or sqlite3 DBAPI2 connection. Other DBAPI2 objects are not tested. Please consider using SQLAlchemy.\n",
            "  result03 = pd.read_sql_query(query03, connection)\n"
          ]
        },
        {
          "data": {
            "text/html": [
              "<div>\n",
              "<style scoped>\n",
              "    .dataframe tbody tr th:only-of-type {\n",
              "        vertical-align: middle;\n",
              "    }\n",
              "\n",
              "    .dataframe tbody tr th {\n",
              "        vertical-align: top;\n",
              "    }\n",
              "\n",
              "    .dataframe thead th {\n",
              "        text-align: right;\n",
              "    }\n",
              "</style>\n",
              "<table border=\"1\" class=\"dataframe\">\n",
              "  <thead>\n",
              "    <tr style=\"text-align: right;\">\n",
              "      <th></th>\n",
              "      <th>industry</th>\n",
              "      <th>salary</th>\n",
              "    </tr>\n",
              "  </thead>\n",
              "  <tbody>\n",
              "    <tr>\n",
              "      <th>0</th>\n",
              "      <td>Агрохимия (продвижение, оптовая торговля)</td>\n",
              "      <td>381429.0</td>\n",
              "    </tr>\n",
              "    <tr>\n",
              "      <th>1</th>\n",
              "      <td>Агрохимия (производство)</td>\n",
              "      <td>339875.0</td>\n",
              "    </tr>\n",
              "    <tr>\n",
              "      <th>2</th>\n",
              "      <td>Игорный бизнес</td>\n",
              "      <td>191905.0</td>\n",
              "    </tr>\n",
              "    <tr>\n",
              "      <th>3</th>\n",
              "      <td>Корма для животных (производство)</td>\n",
              "      <td>168300.0</td>\n",
              "    </tr>\n",
              "    <tr>\n",
              "      <th>4</th>\n",
              "      <td>Зоомагазин</td>\n",
              "      <td>167613.0</td>\n",
              "    </tr>\n",
              "    <tr>\n",
              "      <th>5</th>\n",
              "      <td>Кадровые агентства</td>\n",
              "      <td>144530.0</td>\n",
              "    </tr>\n",
              "    <tr>\n",
              "      <th>6</th>\n",
              "      <td>Лакокрасочная продукция, сырье (производство)</td>\n",
              "      <td>142803.0</td>\n",
              "    </tr>\n",
              "    <tr>\n",
              "      <th>7</th>\n",
              "      <td>Бытовая химия, парфюмерия, косметика  (произво...</td>\n",
              "      <td>130120.0</td>\n",
              "    </tr>\n",
              "    <tr>\n",
              "      <th>8</th>\n",
              "      <td>Лакокрасочная продукция, сырье (продвижение, о...</td>\n",
              "      <td>128445.0</td>\n",
              "    </tr>\n",
              "    <tr>\n",
              "      <th>9</th>\n",
              "      <td>Дорожно-строительная техника, сельскохозяйстве...</td>\n",
              "      <td>122878.0</td>\n",
              "    </tr>\n",
              "  </tbody>\n",
              "</table>\n",
              "</div>"
            ],
            "text/plain": [
              "                                            industry    salary\n",
              "0          Агрохимия (продвижение, оптовая торговля)  381429.0\n",
              "1                           Агрохимия (производство)  339875.0\n",
              "2                                     Игорный бизнес  191905.0\n",
              "3                  Корма для животных (производство)  168300.0\n",
              "4                                         Зоомагазин  167613.0\n",
              "5                                 Кадровые агентства  144530.0\n",
              "6      Лакокрасочная продукция, сырье (производство)  142803.0\n",
              "7  Бытовая химия, парфюмерия, косметика  (произво...  130120.0\n",
              "8  Лакокрасочная продукция, сырье (продвижение, о...  128445.0\n",
              "9  Дорожно-строительная техника, сельскохозяйстве...  122878.0"
            ]
          },
          "metadata": {},
          "output_type": "display_data"
        },
        {
          "name": "stderr",
          "output_type": "stream",
          "text": [
            "/var/folders/14/w5z30cwx541gq2kzys9tvttc0000gn/T/ipykernel_8714/278499866.py:24: UserWarning: pandas only supports SQLAlchemy connectable (engine/connection) or database string URI or sqlite3 DBAPI2 connection. Other DBAPI2 objects are not tested. Please consider using SQLAlchemy.\n",
            "  result03_1 = pd.read_sql_query(query03_1, connection)\n"
          ]
        },
        {
          "data": {
            "text/html": [
              "<div>\n",
              "<style scoped>\n",
              "    .dataframe tbody tr th:only-of-type {\n",
              "        vertical-align: middle;\n",
              "    }\n",
              "\n",
              "    .dataframe tbody tr th {\n",
              "        vertical-align: top;\n",
              "    }\n",
              "\n",
              "    .dataframe thead th {\n",
              "        text-align: right;\n",
              "    }\n",
              "</style>\n",
              "<table border=\"1\" class=\"dataframe\">\n",
              "  <thead>\n",
              "    <tr style=\"text-align: right;\">\n",
              "      <th></th>\n",
              "      <th>position</th>\n",
              "      <th>industry</th>\n",
              "      <th>salary</th>\n",
              "    </tr>\n",
              "  </thead>\n",
              "  <tbody>\n",
              "    <tr>\n",
              "      <th>0</th>\n",
              "      <td>СТО/Директор по разработке</td>\n",
              "      <td>Интернет-магазин</td>\n",
              "      <td>750000.0</td>\n",
              "    </tr>\n",
              "    <tr>\n",
              "      <th>1</th>\n",
              "      <td>СТО/Директор по разработке</td>\n",
              "      <td>Полуфабрикаты, в том числе замороженные (произ...</td>\n",
              "      <td>750000.0</td>\n",
              "    </tr>\n",
              "    <tr>\n",
              "      <th>2</th>\n",
              "      <td>СТО/Директор по разработке</td>\n",
              "      <td>Разработка программного обеспечения</td>\n",
              "      <td>750000.0</td>\n",
              "    </tr>\n",
              "    <tr>\n",
              "      <th>3</th>\n",
              "      <td>Брокер по продаже апартаментов</td>\n",
              "      <td>Консалтинг, оценка в недвижимости</td>\n",
              "      <td>750000.0</td>\n",
              "    </tr>\n",
              "    <tr>\n",
              "      <th>4</th>\n",
              "      <td>Брокер по продаже апартаментов</td>\n",
              "      <td>Агентские услуги в недвижимости</td>\n",
              "      <td>750000.0</td>\n",
              "    </tr>\n",
              "    <tr>\n",
              "      <th>5</th>\n",
              "      <td>СТО/Директор по разработке</td>\n",
              "      <td>Розничная сеть (DIY и товары для дома)</td>\n",
              "      <td>750000.0</td>\n",
              "    </tr>\n",
              "    <tr>\n",
              "      <th>6</th>\n",
              "      <td>QA Automation Engineer</td>\n",
              "      <td>Интернет-компания (поисковики, платежные систе...</td>\n",
              "      <td>700000.0</td>\n",
              "    </tr>\n",
              "    <tr>\n",
              "      <th>7</th>\n",
              "      <td>Директор по информационным технологиям</td>\n",
              "      <td>Кадровые агентства</td>\n",
              "      <td>650000.0</td>\n",
              "    </tr>\n",
              "    <tr>\n",
              "      <th>8</th>\n",
              "      <td>Руководитель команды разработки</td>\n",
              "      <td>Кадровые агентства</td>\n",
              "      <td>600000.0</td>\n",
              "    </tr>\n",
              "    <tr>\n",
              "      <th>9</th>\n",
              "      <td>Руководитель команды разработки</td>\n",
              "      <td>Системная интеграция,  автоматизации технологи...</td>\n",
              "      <td>600000.0</td>\n",
              "    </tr>\n",
              "    <tr>\n",
              "      <th>10</th>\n",
              "      <td>Руководитель команды разработки</td>\n",
              "      <td>Консалтинговые услуги</td>\n",
              "      <td>600000.0</td>\n",
              "    </tr>\n",
              "    <tr>\n",
              "      <th>11</th>\n",
              "      <td>Руководитель команды разработки</td>\n",
              "      <td>Разработка программного обеспечения</td>\n",
              "      <td>600000.0</td>\n",
              "    </tr>\n",
              "    <tr>\n",
              "      <th>12</th>\n",
              "      <td>Senior Software Developer (upwork / иностранны...</td>\n",
              "      <td>Разработка программного обеспечения</td>\n",
              "      <td>555261.0</td>\n",
              "    </tr>\n",
              "    <tr>\n",
              "      <th>13</th>\n",
              "      <td>Senior Software Developer (upwork / иностранны...</td>\n",
              "      <td>Системная интеграция,  автоматизации технологи...</td>\n",
              "      <td>555261.0</td>\n",
              "    </tr>\n",
              "    <tr>\n",
              "      <th>14</th>\n",
              "      <td>Chief Product Officer (CPO)</td>\n",
              "      <td>Интернет-компания (поисковики, платежные систе...</td>\n",
              "      <td>550000.0</td>\n",
              "    </tr>\n",
              "    <tr>\n",
              "      <th>15</th>\n",
              "      <td>Директор IT (HoReCa, Retail)</td>\n",
              "      <td>Консалтинговые услуги</td>\n",
              "      <td>550000.0</td>\n",
              "    </tr>\n",
              "    <tr>\n",
              "      <th>16</th>\n",
              "      <td>Директор IT (HoReCa, Retail)</td>\n",
              "      <td>Кадровые агентства</td>\n",
              "      <td>550000.0</td>\n",
              "    </tr>\n",
              "    <tr>\n",
              "      <th>17</th>\n",
              "      <td>Project/Delivery manager</td>\n",
              "      <td>Интернет-компания (поисковики, платежные систе...</td>\n",
              "      <td>546087.0</td>\n",
              "    </tr>\n",
              "    <tr>\n",
              "      <th>18</th>\n",
              "      <td>Project/Delivery manager</td>\n",
              "      <td>Системная интеграция,  автоматизации технологи...</td>\n",
              "      <td>546087.0</td>\n",
              "    </tr>\n",
              "    <tr>\n",
              "      <th>19</th>\n",
              "      <td>Project/Delivery manager</td>\n",
              "      <td>Кадровые агентства</td>\n",
              "      <td>546087.0</td>\n",
              "    </tr>\n",
              "    <tr>\n",
              "      <th>20</th>\n",
              "      <td>Project/Delivery manager</td>\n",
              "      <td>Научно-исследовательская, научная, академическ...</td>\n",
              "      <td>546087.0</td>\n",
              "    </tr>\n",
              "    <tr>\n",
              "      <th>21</th>\n",
              "      <td>Project/Delivery manager</td>\n",
              "      <td>Разработка программного обеспечения</td>\n",
              "      <td>546087.0</td>\n",
              "    </tr>\n",
              "    <tr>\n",
              "      <th>22</th>\n",
              "      <td>Product manager LATOKEN</td>\n",
              "      <td>Финансово-кредитное посредничество (биржа, бро...</td>\n",
              "      <td>526638.0</td>\n",
              "    </tr>\n",
              "    <tr>\n",
              "      <th>23</th>\n",
              "      <td>Руководитель Отдела тестирования/QA</td>\n",
              "      <td>Кадровые агентства</td>\n",
              "      <td>500000.0</td>\n",
              "    </tr>\n",
              "    <tr>\n",
              "      <th>24</th>\n",
              "      <td>Программист-разработчик</td>\n",
              "      <td>Строительство жилищное</td>\n",
              "      <td>500000.0</td>\n",
              "    </tr>\n",
              "    <tr>\n",
              "      <th>25</th>\n",
              "      <td>Программист-разработчик</td>\n",
              "      <td>Строительство коммерческих объектов (торговые ...</td>\n",
              "      <td>500000.0</td>\n",
              "    </tr>\n",
              "    <tr>\n",
              "      <th>26</th>\n",
              "      <td>Директор научно-исследовательского центра (химия)</td>\n",
              "      <td>Бытовая химия, парфюмерия, косметика  (продвиж...</td>\n",
              "      <td>500000.0</td>\n",
              "    </tr>\n",
              "    <tr>\n",
              "      <th>27</th>\n",
              "      <td>Директор научно-исследовательского центра (химия)</td>\n",
              "      <td>Агрохимия (производство)</td>\n",
              "      <td>500000.0</td>\n",
              "    </tr>\n",
              "    <tr>\n",
              "      <th>28</th>\n",
              "      <td>Директор научно-исследовательского центра (химия)</td>\n",
              "      <td>Бытовая химия, парфюмерия, косметика  (произво...</td>\n",
              "      <td>500000.0</td>\n",
              "    </tr>\n",
              "    <tr>\n",
              "      <th>29</th>\n",
              "      <td>Java Backend Developer (remote)</td>\n",
              "      <td>Финансово-кредитное посредничество (биржа, бро...</td>\n",
              "      <td>500000.0</td>\n",
              "    </tr>\n",
              "    <tr>\n",
              "      <th>30</th>\n",
              "      <td>Директор научно-исследовательского центра (химия)</td>\n",
              "      <td>Агрохимия (продвижение, оптовая торговля)</td>\n",
              "      <td>500000.0</td>\n",
              "    </tr>\n",
              "    <tr>\n",
              "      <th>31</th>\n",
              "      <td>Java-разработчик (со 2-ой формой допуска к гос...</td>\n",
              "      <td>Системная интеграция,  автоматизации технологи...</td>\n",
              "      <td>500000.0</td>\n",
              "    </tr>\n",
              "    <tr>\n",
              "      <th>32</th>\n",
              "      <td>Java-разработчик (со 2-ой формой допуска к гос...</td>\n",
              "      <td>Разработка программного обеспечения</td>\n",
              "      <td>500000.0</td>\n",
              "    </tr>\n",
              "    <tr>\n",
              "      <th>33</th>\n",
              "      <td>Lead of Mobile</td>\n",
              "      <td>Разработка программного обеспечения</td>\n",
              "      <td>460000.0</td>\n",
              "    </tr>\n",
              "    <tr>\n",
              "      <th>34</th>\n",
              "      <td>ML Engineer \\ Data scientist</td>\n",
              "      <td>Разработка программного обеспечения</td>\n",
              "      <td>450000.0</td>\n",
              "    </tr>\n",
              "    <tr>\n",
              "      <th>35</th>\n",
              "      <td>ML Engineer \\ Data scientist</td>\n",
              "      <td>Системная интеграция,  автоматизации технологи...</td>\n",
              "      <td>450000.0</td>\n",
              "    </tr>\n",
              "    <tr>\n",
              "      <th>36</th>\n",
              "      <td>Lead ETL разработчик (Phyton) / Архитектор</td>\n",
              "      <td>Кадровые агентства</td>\n",
              "      <td>450000.0</td>\n",
              "    </tr>\n",
              "    <tr>\n",
              "      <th>37</th>\n",
              "      <td>Lead ETL разработчик (Phyton) / Архитектор</td>\n",
              "      <td>Разработка программного обеспечения</td>\n",
              "      <td>450000.0</td>\n",
              "    </tr>\n",
              "    <tr>\n",
              "      <th>38</th>\n",
              "      <td>Lead ETL разработчик (Phyton) / Архитектор</td>\n",
              "      <td>Системная интеграция,  автоматизации технологи...</td>\n",
              "      <td>450000.0</td>\n",
              "    </tr>\n",
              "    <tr>\n",
              "      <th>39</th>\n",
              "      <td>Liquidity Bots Developer</td>\n",
              "      <td>Финансово-кредитное посредничество (биржа, бро...</td>\n",
              "      <td>438363.0</td>\n",
              "    </tr>\n",
              "  </tbody>\n",
              "</table>\n",
              "</div>"
            ],
            "text/plain": [
              "                                             position  \\\n",
              "0                          СТО/Директор по разработке   \n",
              "1                          СТО/Директор по разработке   \n",
              "2                          СТО/Директор по разработке   \n",
              "3                      Брокер по продаже апартаментов   \n",
              "4                      Брокер по продаже апартаментов   \n",
              "5                          СТО/Директор по разработке   \n",
              "6                              QA Automation Engineer   \n",
              "7              Директор по информационным технологиям   \n",
              "8                     Руководитель команды разработки   \n",
              "9                     Руководитель команды разработки   \n",
              "10                    Руководитель команды разработки   \n",
              "11                    Руководитель команды разработки   \n",
              "12  Senior Software Developer (upwork / иностранны...   \n",
              "13  Senior Software Developer (upwork / иностранны...   \n",
              "14                        Chief Product Officer (CPO)   \n",
              "15                       Директор IT (HoReCa, Retail)   \n",
              "16                       Директор IT (HoReCa, Retail)   \n",
              "17                           Project/Delivery manager   \n",
              "18                           Project/Delivery manager   \n",
              "19                           Project/Delivery manager   \n",
              "20                           Project/Delivery manager   \n",
              "21                           Project/Delivery manager   \n",
              "22                            Product manager LATOKEN   \n",
              "23                Руководитель Отдела тестирования/QA   \n",
              "24                            Программист-разработчик   \n",
              "25                            Программист-разработчик   \n",
              "26  Директор научно-исследовательского центра (химия)   \n",
              "27  Директор научно-исследовательского центра (химия)   \n",
              "28  Директор научно-исследовательского центра (химия)   \n",
              "29                    Java Backend Developer (remote)   \n",
              "30  Директор научно-исследовательского центра (химия)   \n",
              "31  Java-разработчик (со 2-ой формой допуска к гос...   \n",
              "32  Java-разработчик (со 2-ой формой допуска к гос...   \n",
              "33                                     Lead of Mobile   \n",
              "34                       ML Engineer \\ Data scientist   \n",
              "35                       ML Engineer \\ Data scientist   \n",
              "36         Lead ETL разработчик (Phyton) / Архитектор   \n",
              "37         Lead ETL разработчик (Phyton) / Архитектор   \n",
              "38         Lead ETL разработчик (Phyton) / Архитектор   \n",
              "39                           Liquidity Bots Developer   \n",
              "\n",
              "                                             industry    salary  \n",
              "0                                    Интернет-магазин  750000.0  \n",
              "1   Полуфабрикаты, в том числе замороженные (произ...  750000.0  \n",
              "2                 Разработка программного обеспечения  750000.0  \n",
              "3                   Консалтинг, оценка в недвижимости  750000.0  \n",
              "4                     Агентские услуги в недвижимости  750000.0  \n",
              "5              Розничная сеть (DIY и товары для дома)  750000.0  \n",
              "6   Интернет-компания (поисковики, платежные систе...  700000.0  \n",
              "7                                  Кадровые агентства  650000.0  \n",
              "8                                  Кадровые агентства  600000.0  \n",
              "9   Системная интеграция,  автоматизации технологи...  600000.0  \n",
              "10                              Консалтинговые услуги  600000.0  \n",
              "11                Разработка программного обеспечения  600000.0  \n",
              "12                Разработка программного обеспечения  555261.0  \n",
              "13  Системная интеграция,  автоматизации технологи...  555261.0  \n",
              "14  Интернет-компания (поисковики, платежные систе...  550000.0  \n",
              "15                              Консалтинговые услуги  550000.0  \n",
              "16                                 Кадровые агентства  550000.0  \n",
              "17  Интернет-компания (поисковики, платежные систе...  546087.0  \n",
              "18  Системная интеграция,  автоматизации технологи...  546087.0  \n",
              "19                                 Кадровые агентства  546087.0  \n",
              "20  Научно-исследовательская, научная, академическ...  546087.0  \n",
              "21                Разработка программного обеспечения  546087.0  \n",
              "22  Финансово-кредитное посредничество (биржа, бро...  526638.0  \n",
              "23                                 Кадровые агентства  500000.0  \n",
              "24                             Строительство жилищное  500000.0  \n",
              "25  Строительство коммерческих объектов (торговые ...  500000.0  \n",
              "26  Бытовая химия, парфюмерия, косметика  (продвиж...  500000.0  \n",
              "27                           Агрохимия (производство)  500000.0  \n",
              "28  Бытовая химия, парфюмерия, косметика  (произво...  500000.0  \n",
              "29  Финансово-кредитное посредничество (биржа, бро...  500000.0  \n",
              "30          Агрохимия (продвижение, оптовая торговля)  500000.0  \n",
              "31  Системная интеграция,  автоматизации технологи...  500000.0  \n",
              "32                Разработка программного обеспечения  500000.0  \n",
              "33                Разработка программного обеспечения  460000.0  \n",
              "34                Разработка программного обеспечения  450000.0  \n",
              "35  Системная интеграция,  автоматизации технологи...  450000.0  \n",
              "36                                 Кадровые агентства  450000.0  \n",
              "37                Разработка программного обеспечения  450000.0  \n",
              "38  Системная интеграция,  автоматизации технологи...  450000.0  \n",
              "39  Финансово-кредитное посредничество (биржа, бро...  438363.0  "
            ]
          },
          "execution_count": 37,
          "metadata": {},
          "output_type": "execute_result"
        }
      ],
      "source": [
        "# Соответствие среднего уровня заработной платы от профессиональной области, должности.\n",
        "\n",
        "query03 = f'''SELECT i.name as industry, ROUND(AVG(coalesce(((v.salary_from+v.salary_to)/2), v.salary_from, v.salary_to))) as salary\n",
        "FROM vacancies v \n",
        "join employers_industries ei on v.employer_id = ei.employer_id\n",
        "join industries i on ei.industry_id = i.id\n",
        "GROUP BY i.name\n",
        "ORDER BY salary desc NULLS LAST\n",
        "LIMIT 10\n",
        "'''\n",
        "\n",
        "result03 = pd.read_sql_query(query03, connection)\n",
        "display(result03)\n",
        "\n",
        "query03_1 = f'''SELECT  v.name as position, i.name as industry, ROUND(AVG(coalesce(((v.salary_from+v.salary_to)/2), v.salary_from, v.salary_to))) as salary\n",
        "FROM vacancies v \n",
        "join employers_industries ei on v.employer_id = ei.employer_id\n",
        "join industries i on ei.industry_id = i.id\n",
        "GROUP BY v.name, i.name\n",
        "ORDER BY salary desc NULLS LAST\n",
        "LIMIT 40\n",
        "'''\n",
        "\n",
        "result03_1 = pd.read_sql_query(query03_1, connection)\n",
        "result03_1"
      ]
    },
    {
      "cell_type": "markdown",
      "id": "d5819c34",
      "metadata": {},
      "source": [
        "Выводы по дополнительным исследованиям\n",
        "\n",
        "В качестве дополнительгных ислледований, опираясь на собственную заинтересованность, я хотела оценить какие ключевые новыки нужны DS специалисту, и как влияет количество этих навыков на уровень заработной платы.\n",
        "\n",
        "Так же, интересно было посмотреть на картину в общем: как влияет регион и профессиональная сфера деятельности на уровень заработной платы.\n",
        "\n",
        "По итогам проведенных исследований, можно сказать, что ожидаемой прямопропорциональной зависимости уровня заработной платы от количества необходимых ключевых навыков не наблюдается. В вакансиях, с самым низким среднем уровенем зп (из указанных) указано 11 ключевых навыков, тогда как для самого выского среднего уровня зп - 4 ключевых навыка. \n",
        "Вероятно это происходит потому, что при составлении вакансии часть компаний указывала не только навыки владения конкретными продуктами или языками, но и такие общие характеристики как \"Математический анализ\", \"Работа в команде\" и т.д. Это, в целом, полезная информация для соискателя, но практически сложно проверяемая рекрутером. Возможно поэтому и не часто останавливающая соискателя, не обладающего нужными общими навыками, от отклика на вакансию.\n",
        "\n",
        "Перейдем к конкретным навыкам, которые в основном требуют работодатели от соискателей, рассчитывающих на должность DS специалиста. Топ выглядит следующим образом: Python, SQL, Machine Learning, а так же навыки матиматического и статистического анализа, навыки работы с Git. Так же упоминаются Pandas, ML, Linux, C++.\n",
        "\n",
        "Таким образом, мы знаем какими ключевыми навыками должен обладать дата сайентист. Однако стоит проверить нет ли среди \"не топовых\" (по количеству вхождений в нашу базу навыков) навыков, редких, но весомых. Ведь часто специалист в узкой области ценится довольно высоко. \n",
        "Отсортировов результат запроса по возрастанию, увидим, что есть специфические для DS навыки, например такие как ERP и Kubernetis, но вполне обоснованные для специалиста, занимающегося планированием ресурсов предприятия и кластерами.\n",
        "\n",
        "Анализируя зависимость заработной платы от сферы деятельности компании, сложно сделать однозначные выводы, так как данные слишком обобщены - топ 3 результата в этой выборке: агрохимия (оптовая торговля и продвижение) и игорный близнес. Какие позиции (предлогаемые вакансии) привели эти сферы деятельности к алимпу выборки - не понятно, поэтому я решила посмотреть не только на сферу деятельности компании, но и на предлогаемую позицию.\n",
        "Выводы из этой заивисимости сделать проще: как ожидалось, самые высокооплачивыаемые позиции у директоров, руководителей, senior специалистов. Безусловно, брокер по продаже недвижимости с \"потолком зп, который может поставить себе только он\" всегда где-то рядом с руководящими должностями :).\n",
        "В целом, говоря о сферах деятельности компании (топ 40 по уровню среднгей зп), можно отметить, что они совершенно разные: от компаний, занимающимися производством полуфабрикатов, до строительства. Однако главную зависимость видно четко: в основном эти компании ищут опытных специалистов сферы IT, которым готовы хорошо платить."
      ]
    },
    {
      "cell_type": "markdown",
      "id": "6a7892b4-4113-4746-adce-18aa2844f18e",
      "metadata": {
        "id": "6a7892b4-4113-4746-adce-18aa2844f18e"
      },
      "source": [
        "***"
      ]
    },
    {
      "cell_type": "markdown",
      "id": "c0ED6fh7wiBT",
      "metadata": {
        "id": "c0ED6fh7wiBT"
      },
      "source": [
        "# Общий вывод по проекту"
      ]
    },
    {
      "cell_type": "markdown",
      "id": "084fa7e2",
      "metadata": {},
      "source": [
        "# подведем итог исследования, обобщите выводы\n",
        "\n",
        "Подводя итоги исследований вакакнсий с hh, можно сказать о том, что наблюдается четкая взаимосвязь между количеством вакансий \n",
        "и численности населения города, в котором требуется определенный специалист. Чем крупнее город - тем больше выбор вакансий, а так же выше предлогаемая зп.\n",
        "В крупных городах заработная плата более чем в 13 раз больше, чем в мелких городах. Безуcловно, на это может влиять как уровень образования в отдаленных, маленьких городах, как следствие и компетенция специалистов. Так же еще одним фактором может выступать общий уровень цен (в центральном регионе, особенно крупных городах, цены могут быть выше). Расположение филиалов крупных компаний, которым требуются много сотрудников при адекватном предложении заработной платы, как правильно, приходится на более крпуные города. \n",
        "Вероятно, эту проблему можно решить путем повышения уровня образования населения маленьких городов, при необходимости построив там учебные учреждения. \n",
        "Так же появление филиалов крупных компаний в маленьких городах может помочь сократить столь весомую разницу в зп и количестве вакансий.\n",
        "\n",
        "\n",
        "Более чем в 50% вакансий не указана хотя бы одна из границ заработной платы. Я считаю этот критерий достаточно важным для того, чтобы на месте соискателя отсеить часть вакансий, зп в которых мне не подходит. Для рекрутера это может быть экономией времени, потраченной на кандидата, который в итоге не захочет устраиваться на работу. В маленьких компаниях обязанности рекрутера часто лежат на руководителях, тогда вопрос об экономии времени становится еще большее актуальным. \n",
        "\n",
        "Полная занятость - самый популярный тип занятости. Для многих компаний и дожностей приемлим только такой рабочий график, но если компания рассматривает возможность привлечения людей на не полный рабочий день (пересчитав, например, возможную зарплату, в соотвтетствии с рабочем временем), потенциальных сотрудников становится намного боольше: ведь часто студенты готовы и способны работать и приносить пользу компании.\n",
        "\n",
        "На сайте hh соискателю доступен поиск вакансий по отрасли компании. У 36% работодателей не указана сфера их деятельности, что может приводить к тому, что вакансии этих компаний не видны части соискателей. \n",
        "Помимо этого, дело в элементрном удобстве: при просмотре вакансии не нужно лезть в поиск чтобы посмотреть чем занмиается компания, вакансия которой заинтересовала.\n",
        "Возможно, если проанализировать скорость найма сотрудников и количество отзыввов на их вакансии, это может стимулировать компании заполнять бошльше информации о себе.\n",
        "\n",
        "Говоря о вакансиях, имеющих отношение к данным, можно отметить, что у 15% работодателей 'Разработка программного обеспечения' указана как сфера их деятельности. В этой области предложена 1771 вакансия. Из них 51 вакансия подходит для начинающего дата-сайентиста.\n",
        "\n",
        "В 201 вакансии для DS, в которых в качестве ключевого навыка указан SQL или postgres.\n",
        "В 351 вакансии Python указан в качестве ключевого навыка. Вероятно, популярность Python набирает обороты.\n",
        "\n",
        "В среднем указывают в вакансиях для DS указывают 6 ключевых навыков.\n",
        "\n",
        "Заработная плата DS специалиста варьируется в среднем от 75 тысяч рублей (специалист без опыта работы) до 243 тысячь рублей в среднем для специалиста, чей стаж составляет от 3 до 6 лет.\n",
        "\n",
        "По результатам дополнительных исследований можно отметить, что сфера IT является одной из самых высокооплачиваемых. В ней так же прослеживается логичная закономерность: чем опытнее специалист и чем больше у него навыков, тем выше может быть уровень его дохода."
      ]
    }
  ],
  "metadata": {
    "colab": {
      "collapsed_sections": [
        "8d62a9f3-f64e-4fe7-bdac-c4dffa16155e"
      ],
      "provenance": []
    },
    "kernelspec": {
      "display_name": "Python 3.11.0 64-bit",
      "language": "python",
      "name": "python3"
    },
    "language_info": {
      "codemirror_mode": {
        "name": "ipython",
        "version": 3
      },
      "file_extension": ".py",
      "mimetype": "text/x-python",
      "name": "python",
      "nbconvert_exporter": "python",
      "pygments_lexer": "ipython3",
      "version": "3.11.0"
    },
    "vscode": {
      "interpreter": {
        "hash": "aee8b7b246df8f9039afb4144a1f6fd8d2ca17a180786b69acc140d282b71a49"
      }
    }
  },
  "nbformat": 4,
  "nbformat_minor": 5
}
